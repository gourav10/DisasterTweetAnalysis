{
  "nbformat": 4,
  "nbformat_minor": 5,
  "metadata": {
    "kernelspec": {
      "display_name": "Python 3",
      "language": "python",
      "name": "python3"
    },
    "language_info": {
      "codemirror_mode": {
        "name": "ipython",
        "version": 3
      },
      "file_extension": ".py",
      "mimetype": "text/x-python",
      "name": "python",
      "nbconvert_exporter": "python",
      "pygments_lexer": "ipython3",
      "version": "3.7.10"
    },
    "papermill": {
      "default_parameters": {},
      "duration": 953.29293,
      "end_time": "2021-10-24T23:50:39.563789",
      "environment_variables": {},
      "exception": null,
      "input_path": "__notebook__.ipynb",
      "output_path": "__notebook__.ipynb",
      "parameters": {},
      "start_time": "2021-10-24T23:34:46.270859",
      "version": "2.3.3"
    },
    "colab": {
      "name": "DisasterTweet_Preprocessing.ipynb",
      "provenance": [],
      "collapsed_sections": []
    }
  },
  "cells": [
    {
      "cell_type": "code",
      "metadata": {
        "_cell_guid": "b1076dfc-b9ad-4769-8c92-a6c4dae69d19",
        "_uuid": "8f2839f25d086af736a60e9eeb907d3b93b6e0e5",
        "execution": {
          "iopub.execute_input": "2021-10-24T23:34:54.333576Z",
          "iopub.status.busy": "2021-10-24T23:34:54.332870Z",
          "iopub.status.idle": "2021-10-24T23:34:54.350485Z",
          "shell.execute_reply": "2021-10-24T23:34:54.351307Z",
          "shell.execute_reply.started": "2021-10-24T22:57:40.548141Z"
        },
        "papermill": {
          "duration": 0.082249,
          "end_time": "2021-10-24T23:34:54.351672",
          "exception": false,
          "start_time": "2021-10-24T23:34:54.269423",
          "status": "completed"
        },
        "tags": [],
        "id": "8420940a"
      },
      "source": [
        "# This Python 3 environment comes with many helpful analytics libraries installed\n",
        "# It is defined by the kaggle/python Docker image: https://github.com/kaggle/docker-python\n",
        "# For example, here's several helpful packages to load\n",
        "\n",
        "import numpy as np # linear algebra\n",
        "import pandas as pd # data processing, CSV file I/O (e.g. pd.read_csv)\n",
        "\n",
        "# Input data files are available in the read-only \"../input/\" directory\n",
        "# For example, running this (by clicking run or pressing Shift+Enter) will list all files under the input directory\n",
        "\n",
        "import os\n",
        "# for dirname, _, filenames in os.walk('/kaggle/input'):\n",
        "#     for filename in filenames:\n",
        "#         print(os.path.join(dirname, filename))\n",
        "\n",
        "# You can write up to 20GB to the current directory (/kaggle/working/) that gets preserved as output when you create a version using \"Save & Run All\" \n",
        "# You can also write temporary files to /kaggle/temp/, but they won't be saved outside of the current session"
      ],
      "id": "8420940a",
      "execution_count": null,
      "outputs": []
    },
    {
      "cell_type": "code",
      "metadata": {
        "execution": {
          "iopub.execute_input": "2021-10-24T23:34:54.455186Z",
          "iopub.status.busy": "2021-10-24T23:34:54.454276Z",
          "iopub.status.idle": "2021-10-24T23:35:03.656522Z",
          "shell.execute_reply": "2021-10-24T23:35:03.655906Z",
          "shell.execute_reply.started": "2021-10-24T23:07:25.289639Z"
        },
        "papermill": {
          "duration": 9.256976,
          "end_time": "2021-10-24T23:35:03.656748",
          "exception": false,
          "start_time": "2021-10-24T23:34:54.399772",
          "status": "completed"
        },
        "tags": [],
        "id": "a033fb88"
      },
      "source": [
        "import spacy\n",
        "import pandas as pd\n",
        "import numpy as np\n",
        "import re\n",
        "import string\n",
        "import timeit\n",
        "import tensorflow as tf\n",
        "import tensorflow_hub as hub\n",
        "# Cleaning Data\n",
        "from keras.preprocessing.text import Tokenizer\n",
        "from nltk import corpus, SnowballStemmer, word_tokenize\n",
        "# !pip install pyspellchecker\n",
        "# from spellchecker import SpellChecker\n",
        "from tqdm import tqdm\n",
        "# Visualization\n",
        "import matplotlib.pyplot as plt\n",
        "import seaborn as sns\n",
        "# Preprocessing and Modelling\n",
        "from sklearn.model_selection import train_test_split\n",
        "from sklearn.feature_extraction.text import CountVectorizer\n",
        "from sklearn.feature_extraction.text import TfidfVectorizer\n",
        "\n",
        "from keras.preprocessing.sequence import pad_sequences\n",
        "from keras.layers import Embedding, SimpleRNN, Dense, Bidirectional, GRU, LSTM, SpatialDropout1D\n",
        "from tensorflow.compat.v1.keras.layers import CuDNNLSTM\n",
        "from keras.models import Sequential\n"
      ],
      "id": "a033fb88",
      "execution_count": null,
      "outputs": []
    },
    {
      "cell_type": "markdown",
      "metadata": {
        "papermill": {
          "duration": 0.050477,
          "end_time": "2021-10-24T23:35:03.757786",
          "exception": false,
          "start_time": "2021-10-24T23:35:03.707309",
          "status": "completed"
        },
        "tags": [],
        "id": "ee764e31"
      },
      "source": [
        "<a id=0></a>\n",
        "## <p style=\"background-color:lightblue; font-family:newtimeroman; font-size:120%; text-align:left; border-radius: 15px 50px;\">Table of Content</p>\n",
        "\n",
        "* [1. Loading Data 💎](#1)\n",
        "* [2. EDA 📊](#2)\n",
        "* [3. Data Preprocessing](#3)\n",
        "    * [3.1 Remove corpus](#3.1)\n",
        "    * [3.2 Remove Stemming](#3.2)\n",
        "* [4. Vectorization](#4)\n",
        "    * [4.1 Common Vectorizer Usage](#4.1)\n",
        "    * [4.2 If-Idf Term Weightings](#4.2)\n",
        "* [5. Model](#5)\n",
        "    * [5.1. GloVe for Vectorization](#5.1)\n",
        "        * [5.1.1 Preparing the data](#5.1.1)\n",
        "        * [5.1.2 The First recurrent Baseline with 'SimpleRNN' layer](#5.1.2)\n",
        "        * [5.1.3 'Bidirectional' and 'LSTM' layer](#5.1.3)\n",
        "        * [5.1.4 'Bidirectional' and GRU layer](#5.1.4)\n",
        "        * [5.1.5 SpatialDropout1D + Bidirectional + LSTM layer](#5.1.5) \n",
        "        * [5.1.6 Bidirectional + double LSTM layer](#5.1.6)\n",
        "* [Make a Submission](#10)"
      ],
      "id": "ee764e31"
    },
    {
      "cell_type": "markdown",
      "metadata": {
        "papermill": {
          "duration": 0.046714,
          "end_time": "2021-10-24T23:35:03.851504",
          "exception": false,
          "start_time": "2021-10-24T23:35:03.804790",
          "status": "completed"
        },
        "tags": [],
        "id": "b4de8456"
      },
      "source": [
        "<a id='1'></a>\n",
        "# <p style=\"background-color:skyblue; font-family:newtimeroman; font-size:150%; text-align:center; border-radius: 15px 50px;\">1. Loading Data 💎</p>\n",
        "\n",
        "Just load the dataset and global variables for colors and so on.\n",
        "\n",
        "[Content](#0)"
      ],
      "id": "b4de8456"
    },
    {
      "cell_type": "code",
      "metadata": {
        "colab": {
          "base_uri": "https://localhost:8080/"
        },
        "id": "bQC3LHpZUvJZ",
        "outputId": "3f0e1c4d-c3aa-4631-8143-3fa4c3326f0c"
      },
      "source": [
        "from google.colab import drive\n",
        "\n",
        "drive.mount('/content/drive')"
      ],
      "id": "bQC3LHpZUvJZ",
      "execution_count": null,
      "outputs": [
        {
          "output_type": "stream",
          "name": "stdout",
          "text": [
            "Mounted at /content/drive\n"
          ]
        }
      ]
    },
    {
      "cell_type": "code",
      "metadata": {
        "execution": {
          "iopub.execute_input": "2021-10-24T23:35:03.953857Z",
          "iopub.status.busy": "2021-10-24T23:35:03.952813Z",
          "iopub.status.idle": "2021-10-24T23:35:04.042295Z",
          "shell.execute_reply": "2021-10-24T23:35:04.041801Z",
          "shell.execute_reply.started": "2021-10-24T22:57:56.583797Z"
        },
        "papermill": {
          "duration": 0.144075,
          "end_time": "2021-10-24T23:35:04.042432",
          "exception": false,
          "start_time": "2021-10-24T23:35:03.898357",
          "status": "completed"
        },
        "tags": [],
        "colab": {
          "base_uri": "https://localhost:8080/"
        },
        "id": "45a6096f",
        "outputId": "a9604c59-cf62-426f-d816-ed1ea73c3781"
      },
      "source": [
        "train_full = pd.read_csv('/content/drive/MyDrive/ProjectData/train.csv')\n",
        "test_full = pd.read_csv('/content/drive/MyDrive/ProjectData/test.csv')\n",
        "df = pd.concat([train_full, test_full])\n",
        "\n",
        "train_len = train_full.shape[0]\n",
        "\n",
        "print('Training Set Shape = {}'.format(train_full.shape))\n",
        "print('Training Set Memory Usage = {:.2f}MB'.format(train_full.memory_usage().sum()/2**20))\n",
        "\n",
        "print('Test Set Shape = {}'.format(test_full.shape))\n",
        "print('Test Set Memory Usage = {:.2f}MB'.format(test_full.memory_usage().sum()/2**20))"
      ],
      "id": "45a6096f",
      "execution_count": null,
      "outputs": [
        {
          "output_type": "stream",
          "name": "stdout",
          "text": [
            "Training Set Shape = (7613, 5)\n",
            "Training Set Memory Usage = 0.29MB\n",
            "Test Set Shape = (3263, 4)\n",
            "Test Set Memory Usage = 0.10MB\n"
          ]
        }
      ]
    },
    {
      "cell_type": "code",
      "metadata": {
        "execution": {
          "iopub.execute_input": "2021-10-24T23:35:04.146483Z",
          "iopub.status.busy": "2021-10-24T23:35:04.145541Z",
          "iopub.status.idle": "2021-10-24T23:35:04.191010Z",
          "shell.execute_reply": "2021-10-24T23:35:04.191665Z",
          "shell.execute_reply.started": "2021-10-24T22:57:56.683034Z"
        },
        "papermill": {
          "duration": 0.10189,
          "end_time": "2021-10-24T23:35:04.191855",
          "exception": false,
          "start_time": "2021-10-24T23:35:04.089965",
          "status": "completed"
        },
        "tags": [],
        "colab": {
          "base_uri": "https://localhost:8080/",
          "height": 174
        },
        "id": "cc5d42f6",
        "outputId": "1fb2fb48-a57b-46f8-e19a-0d12cb208009"
      },
      "source": [
        "# Check Unbalancing Data\n",
        "train_full.groupby('target').describe()"
      ],
      "id": "cc5d42f6",
      "execution_count": null,
      "outputs": [
        {
          "output_type": "execute_result",
          "data": {
            "text/html": [
              "<div>\n",
              "<style scoped>\n",
              "    .dataframe tbody tr th:only-of-type {\n",
              "        vertical-align: middle;\n",
              "    }\n",
              "\n",
              "    .dataframe tbody tr th {\n",
              "        vertical-align: top;\n",
              "    }\n",
              "\n",
              "    .dataframe thead tr th {\n",
              "        text-align: left;\n",
              "    }\n",
              "\n",
              "    .dataframe thead tr:last-of-type th {\n",
              "        text-align: right;\n",
              "    }\n",
              "</style>\n",
              "<table border=\"1\" class=\"dataframe\">\n",
              "  <thead>\n",
              "    <tr>\n",
              "      <th></th>\n",
              "      <th colspan=\"8\" halign=\"left\">id</th>\n",
              "    </tr>\n",
              "    <tr>\n",
              "      <th></th>\n",
              "      <th>count</th>\n",
              "      <th>mean</th>\n",
              "      <th>std</th>\n",
              "      <th>min</th>\n",
              "      <th>25%</th>\n",
              "      <th>50%</th>\n",
              "      <th>75%</th>\n",
              "      <th>max</th>\n",
              "    </tr>\n",
              "    <tr>\n",
              "      <th>target</th>\n",
              "      <th></th>\n",
              "      <th></th>\n",
              "      <th></th>\n",
              "      <th></th>\n",
              "      <th></th>\n",
              "      <th></th>\n",
              "      <th></th>\n",
              "      <th></th>\n",
              "    </tr>\n",
              "  </thead>\n",
              "  <tbody>\n",
              "    <tr>\n",
              "      <th>0</th>\n",
              "      <td>4342.0</td>\n",
              "      <td>5276.446338</td>\n",
              "      <td>3157.206802</td>\n",
              "      <td>23.0</td>\n",
              "      <td>2513.25</td>\n",
              "      <td>5243.5</td>\n",
              "      <td>8038.5</td>\n",
              "      <td>10848.0</td>\n",
              "    </tr>\n",
              "    <tr>\n",
              "      <th>1</th>\n",
              "      <td>3271.0</td>\n",
              "      <td>5661.608071</td>\n",
              "      <td>3097.094809</td>\n",
              "      <td>1.0</td>\n",
              "      <td>3104.50</td>\n",
              "      <td>5676.0</td>\n",
              "      <td>8252.0</td>\n",
              "      <td>10873.0</td>\n",
              "    </tr>\n",
              "  </tbody>\n",
              "</table>\n",
              "</div>"
            ],
            "text/plain": [
              "            id                            ...                         \n",
              "         count         mean          std  ...     50%     75%      max\n",
              "target                                    ...                         \n",
              "0       4342.0  5276.446338  3157.206802  ...  5243.5  8038.5  10848.0\n",
              "1       3271.0  5661.608071  3097.094809  ...  5676.0  8252.0  10873.0\n",
              "\n",
              "[2 rows x 8 columns]"
            ]
          },
          "metadata": {},
          "execution_count": 5
        }
      ]
    },
    {
      "cell_type": "code",
      "metadata": {
        "execution": {
          "iopub.execute_input": "2021-10-24T23:35:04.295866Z",
          "iopub.status.busy": "2021-10-24T23:35:04.294769Z",
          "iopub.status.idle": "2021-10-24T23:35:04.298458Z",
          "shell.execute_reply": "2021-10-24T23:35:04.297900Z",
          "shell.execute_reply.started": "2021-10-24T22:57:56.730610Z"
        },
        "papermill": {
          "duration": 0.059374,
          "end_time": "2021-10-24T23:35:04.298610",
          "exception": false,
          "start_time": "2021-10-24T23:35:04.239236",
          "status": "completed"
        },
        "tags": [],
        "id": "3669bcbd"
      },
      "source": [
        "# Using to plot model that be trained\n",
        "def plot_model(history):\n",
        "    acc = history['acc'] if 'acc' in history.keys() else history['accuracy']\n",
        "    val_acc = history['val_acc'] if 'val_acc' in history.keys() else history['val_accuracy']\n",
        "    loss = history['loss'] \n",
        "    val_loss = history['val_loss'] \n",
        "    epochs = range(len(acc))\n",
        "\n",
        "    plt.plot(epochs, acc, 'bo', label='Training acc')\n",
        "    plt.plot(epochs, val_acc, 'b', label='Validation acc')\n",
        "    plt.title('Training and validation accuracy')\n",
        "    plt.legend()\n",
        "\n",
        "    plt.figure()\n",
        "\n",
        "    plt.plot(epochs, loss, 'bo', label='Training loss')\n",
        "    plt.plot(epochs, val_loss, 'b', label='Validation loss')\n",
        "    plt.title('Training and validation loss')\n",
        "    plt.legend()\n",
        "\n",
        "    plt.show()"
      ],
      "id": "3669bcbd",
      "execution_count": null,
      "outputs": []
    },
    {
      "cell_type": "markdown",
      "metadata": {
        "papermill": {
          "duration": 0.047287,
          "end_time": "2021-10-24T23:35:04.393022",
          "exception": false,
          "start_time": "2021-10-24T23:35:04.345735",
          "status": "completed"
        },
        "tags": [],
        "id": "da8b51c1"
      },
      "source": [
        "<a id='2'></a>\n",
        "# <p style=\"background-color:skyblue; font-family:newtimeroman; font-size:150%; text-align:center; border-radius: 15px 50px;\">2. EDA 📊</p>\n",
        "\n",
        "Now we are going to take a look about the target distribution and the messages length.\n",
        "\n",
        "[Content](#0)"
      ],
      "id": "da8b51c1"
    },
    {
      "cell_type": "markdown",
      "metadata": {
        "papermill": {
          "duration": 0.062345,
          "end_time": "2021-10-24T23:35:04.502448",
          "exception": false,
          "start_time": "2021-10-24T23:35:04.440103",
          "status": "completed"
        },
        "tags": [],
        "id": "1b554927"
      },
      "source": [
        "# Class Distribution\n"
      ],
      "id": "1b554927"
    },
    {
      "cell_type": "code",
      "metadata": {
        "execution": {
          "iopub.execute_input": "2021-10-24T23:35:04.607619Z",
          "iopub.status.busy": "2021-10-24T23:35:04.606540Z",
          "iopub.status.idle": "2021-10-24T23:35:04.769705Z",
          "shell.execute_reply": "2021-10-24T23:35:04.770211Z",
          "shell.execute_reply.started": "2021-10-24T22:57:56.740012Z"
        },
        "papermill": {
          "duration": 0.219151,
          "end_time": "2021-10-24T23:35:04.770389",
          "exception": false,
          "start_time": "2021-10-24T23:35:04.551238",
          "status": "completed"
        },
        "tags": [],
        "colab": {
          "base_uri": "https://localhost:8080/",
          "height": 337
        },
        "id": "34641dfb",
        "outputId": "aced0dbc-4bcf-40e8-8ed3-5b30e3655ae2"
      },
      "source": [
        "# Counting the number of meaning tweet (1 is real disaster, 0 is no disaster)\n",
        "x = train_full.target.value_counts()\n",
        "# Display it\n",
        "sns.barplot(x.index, x)\n",
        "plt.gca().set_ylabel('Number of tweets')"
      ],
      "id": "34641dfb",
      "execution_count": null,
      "outputs": [
        {
          "output_type": "stream",
          "name": "stderr",
          "text": [
            "/usr/local/lib/python3.7/dist-packages/seaborn/_decorators.py:43: FutureWarning: Pass the following variables as keyword args: x, y. From version 0.12, the only valid positional argument will be `data`, and passing other arguments without an explicit keyword will result in an error or misinterpretation.\n",
            "  FutureWarning\n"
          ]
        },
        {
          "output_type": "execute_result",
          "data": {
            "text/plain": [
              "Text(0, 0.5, 'Number of tweets')"
            ]
          },
          "metadata": {},
          "execution_count": 7
        },
        {
          "output_type": "display_data",
          "data": {
            "image/png": "[encoded data removed]",
            "text/plain": [
              "<Figure size 432x288 with 1 Axes>"
            ]
          },
          "metadata": {
            "needs_background": "light"
          }
        }
      ]
    },
    {
      "cell_type": "markdown",
      "metadata": {
        "papermill": {
          "duration": 0.049778,
          "end_time": "2021-10-24T23:35:04.870082",
          "exception": false,
          "start_time": "2021-10-24T23:35:04.820304",
          "status": "completed"
        },
        "tags": [],
        "id": "3d63a7a5"
      },
      "source": [
        "# Number of characters in tweets"
      ],
      "id": "3d63a7a5"
    },
    {
      "cell_type": "code",
      "metadata": {
        "execution": {
          "iopub.execute_input": "2021-10-24T23:35:04.997762Z",
          "iopub.status.busy": "2021-10-24T23:35:04.996242Z",
          "iopub.status.idle": "2021-10-24T23:35:05.377788Z",
          "shell.execute_reply": "2021-10-24T23:35:05.377087Z",
          "shell.execute_reply.started": "2021-10-24T22:57:56.883633Z"
        },
        "papermill": {
          "duration": 0.458258,
          "end_time": "2021-10-24T23:35:05.377939",
          "exception": false,
          "start_time": "2021-10-24T23:35:04.919681",
          "status": "completed"
        },
        "tags": [],
        "colab": {
          "base_uri": "https://localhost:8080/",
          "height": 408
        },
        "id": "753aa08a",
        "outputId": "8af85476-04c5-4952-d817-1e8c258cb265"
      },
      "source": [
        "# Define the default histogram chart\n",
        "fig, (ax1, ax2) = plt.subplots(1, 2, figsize=(25,10))\n",
        "fig.suptitle(\"Characters in Tweets\", color=\"Blue\", size=30)\n",
        "# Disaster Chart\n",
        "disaster_len = train_full[train_full.target==1].text.str.len()\n",
        "ax1.hist(disaster_len, color='red')\n",
        "ax1.set_title(\"Disaster Tweets\")\n",
        "ax1.set_xlabel(\"Tweet Character Length\")\n",
        "ax1.set_ylabel(\"Quantity\")\n",
        "# No Disaster Chart\n",
        "nodisaster_len = train_full[train_full.target==0].text.str.len()\n",
        "ax2.hist(nodisaster_len, color='blue')\n",
        "ax2.set_title(\"No Disaster Tweets\")\n",
        "ax2.set_xlabel(\"Tweet Character Length\")\n",
        "ax2.set_ylabel(\"Quantity\")\n",
        "# Display charts\n",
        "plt.show()"
      ],
      "id": "753aa08a",
      "execution_count": null,
      "outputs": [
        {
          "output_type": "display_data",
          "data": {
            "image/png": "[encoded data removed]",
            "text/plain": [
              "<Figure size 1800x720 with 2 Axes>"
            ]
          },
          "metadata": {
            "needs_background": "light"
          }
        }
      ]
    },
    {
      "cell_type": "markdown",
      "metadata": {
        "papermill": {
          "duration": 0.050066,
          "end_time": "2021-10-24T23:35:05.479370",
          "exception": false,
          "start_time": "2021-10-24T23:35:05.429304",
          "status": "completed"
        },
        "tags": [],
        "id": "e7bdd68e"
      },
      "source": [
        "Range from 120 to 140 characters is the most common in tweet."
      ],
      "id": "e7bdd68e"
    },
    {
      "cell_type": "markdown",
      "metadata": {
        "papermill": {
          "duration": 0.051547,
          "end_time": "2021-10-24T23:35:05.581821",
          "exception": false,
          "start_time": "2021-10-24T23:35:05.530274",
          "status": "completed"
        },
        "tags": [],
        "id": "15cec28d"
      },
      "source": [
        "# Number of Words in a tweet"
      ],
      "id": "15cec28d"
    },
    {
      "cell_type": "code",
      "metadata": {
        "execution": {
          "iopub.execute_input": "2021-10-24T23:35:05.711587Z",
          "iopub.status.busy": "2021-10-24T23:35:05.708743Z",
          "iopub.status.idle": "2021-10-24T23:35:06.108343Z",
          "shell.execute_reply": "2021-10-24T23:35:06.107724Z",
          "shell.execute_reply.started": "2021-10-24T22:57:57.273022Z"
        },
        "papermill": {
          "duration": 0.475841,
          "end_time": "2021-10-24T23:35:06.108497",
          "exception": false,
          "start_time": "2021-10-24T23:35:05.632656",
          "status": "completed"
        },
        "tags": [],
        "colab": {
          "base_uri": "https://localhost:8080/",
          "height": 408
        },
        "id": "788235a9",
        "outputId": "3800acb6-abc2-4345-aee4-9c50f7c76b2e"
      },
      "source": [
        "# Define the defaults histogram\n",
        "fig, (ax1,ax2) = plt.subplots(1,2, figsize=(25,10))\n",
        "fig.suptitle(\"Words in Tweet\", size=30, color=\"Blue\")\n",
        "# Disaster chart\n",
        "DisasterWord_len=train_full[train_full.target==1].text.str.split().map(lambda x: len(x))\n",
        "ax1.hist(DisasterWord_len, color='Red')\n",
        "ax1.set_title(\"Disaster Tweets\")\n",
        "ax1.set_xlabel(\"Tweet Word Length\")\n",
        "ax1.set_ylabel(\"Quantity\")\n",
        "# No Disaster chart\n",
        "NoDisasterWord_len = train_full[train_full.target==0].text.str.split().map(lambda x: len(x))\n",
        "ax2.hist(NoDisasterWord_len, color='Green')\n",
        "ax2.set_title(\"No Disaster Tweets\")\n",
        "ax2.set_xlabel(\"Tweet Word Length\")\n",
        "ax2.set_ylabel(\"Quantity\")\n",
        "# Display Histogram\n",
        "plt.show()"
      ],
      "id": "788235a9",
      "execution_count": null,
      "outputs": [
        {
          "output_type": "display_data",
          "data": {
            "image/png": "[encoded data removed]",
            "text/plain": [
              "<Figure size 1800x720 with 2 Axes>"
            ]
          },
          "metadata": {
            "needs_background": "light"
          }
        }
      ]
    },
    {
      "cell_type": "code",
      "metadata": {
        "execution": {
          "iopub.execute_input": "2021-10-24T23:35:06.241121Z",
          "iopub.status.busy": "2021-10-24T23:35:06.239901Z",
          "iopub.status.idle": "2021-10-24T23:35:07.546229Z",
          "shell.execute_reply": "2021-10-24T23:35:07.547823Z",
          "shell.execute_reply.started": "2021-10-24T22:57:57.773799Z"
        },
        "papermill": {
          "duration": 1.387995,
          "end_time": "2021-10-24T23:35:07.548149",
          "exception": false,
          "start_time": "2021-10-24T23:35:06.160154",
          "status": "completed"
        },
        "tags": [],
        "colab": {
          "base_uri": "https://localhost:8080/",
          "height": 497
        },
        "id": "454f4b3b",
        "outputId": "7952a359-1e11-4256-ebd2-3b556616fcbc"
      },
      "source": [
        "# Define the default plots\n",
        "fig, (ax1, ax2) = plt.subplots(1,2,figsize=(25,10))\n",
        "fig.suptitle(\"Average Word Length in a Tweet\", color=\"blue\", size=30)\n",
        "# Disaster Plot\n",
        "DisasterAvgWord_len = train_full[train_full.target==1].text.str.split().apply(lambda x: [len(i) for i in x])\n",
        "sns.distplot(DisasterAvgWord_len.map(lambda x: np.mean(x)), ax=ax1, color='red')\n",
        "ax1.set_title(\"Disaster Tweets\")\n",
        "# Distribution Plots\n",
        "NoDisasterAvgWord_len= train_full[train_full.target==0].text.str.split().apply(lambda x: [len(i) for i in x])\n",
        "sns.distplot(NoDisasterAvgWord_len.map(lambda x: np.mean(x)), ax=ax2, color=\"green\")\n",
        "ax2.set_title(\"No Disaster Tweets\")\n",
        "# Display Plots\n",
        "plt.show()"
      ],
      "id": "454f4b3b",
      "execution_count": null,
      "outputs": [
        {
          "output_type": "stream",
          "name": "stderr",
          "text": [
            "/usr/local/lib/python3.7/dist-packages/seaborn/distributions.py:2619: FutureWarning: `distplot` is a deprecated function and will be removed in a future version. Please adapt your code to use either `displot` (a figure-level function with similar flexibility) or `histplot` (an axes-level function for histograms).\n",
            "  warnings.warn(msg, FutureWarning)\n",
            "/usr/local/lib/python3.7/dist-packages/seaborn/distributions.py:2619: FutureWarning: `distplot` is a deprecated function and will be removed in a future version. Please adapt your code to use either `displot` (a figure-level function with similar flexibility) or `histplot` (an axes-level function for histograms).\n",
            "  warnings.warn(msg, FutureWarning)\n"
          ]
        },
        {
          "output_type": "display_data",
          "data": {
            "image/png": "[encoded data removed]",
            "text/plain": [
              "<Figure size 1800x720 with 2 Axes>"
            ]
          },
          "metadata": {
            "needs_background": "light"
          }
        }
      ]
    },
    {
      "cell_type": "markdown",
      "metadata": {
        "papermill": {
          "duration": 0.099909,
          "end_time": "2021-10-24T23:35:07.761880",
          "exception": false,
          "start_time": "2021-10-24T23:35:07.661971",
          "status": "completed"
        },
        "tags": [],
        "id": "e1ef6226"
      },
      "source": [
        "<a id='3'></a>\n",
        "# <p style=\"background-color:skyblue; font-family:newtimeroman; font-size:150%; text-align:center; border-radius: 15px 50px;\">3. Data Pre-processing </p>\n",
        "\n",
        "Now we are going to engineering the data to make it easier for the model to clasiffy.\n",
        "\n",
        "This section is very important to reduce the dimensions of the problem.\n",
        "\n",
        "\n",
        "[Content](#0)"
      ],
      "id": "e1ef6226"
    },
    {
      "cell_type": "markdown",
      "metadata": {
        "papermill": {
          "duration": 0.095076,
          "end_time": "2021-10-24T23:35:07.953115",
          "exception": false,
          "start_time": "2021-10-24T23:35:07.858039",
          "status": "completed"
        },
        "tags": [],
        "id": "81cc382b"
      },
      "source": [
        "<a id=3.1 ></a>\n",
        "## <p style=\"background-color:skyblue; font-family:newtimeroman; font-size:140%; text-align:left; border-radius: 15px 50px;\">3.1 Cleaning the corpus</p>\n",
        "\n",
        "\n",
        "[Content](#0)"
      ],
      "id": "81cc382b"
    },
    {
      "cell_type": "code",
      "metadata": {
        "id": "uugnUMeXVjzT"
      },
      "source": [
        "df['old_text'] = df.text.copy()"
      ],
      "id": "uugnUMeXVjzT",
      "execution_count": null,
      "outputs": []
    },
    {
      "cell_type": "code",
      "metadata": {
        "execution": {
          "iopub.execute_input": "2021-10-24T23:35:08.190188Z",
          "iopub.status.busy": "2021-10-24T23:35:08.149243Z",
          "iopub.status.idle": "2021-10-24T23:43:27.854812Z",
          "shell.execute_reply": "2021-10-24T23:43:27.854093Z",
          "shell.execute_reply.started": "2021-10-24T22:57:58.820151Z"
        },
        "papermill": {
          "duration": 499.810822,
          "end_time": "2021-10-24T23:43:27.854981",
          "exception": false,
          "start_time": "2021-10-24T23:35:08.044159",
          "status": "completed"
        },
        "tags": [],
        "id": "5e64f5eb"
      },
      "source": [
        "emoji_pattern = re.compile(\"[\"\n",
        "                           u\"\\U0001F600-\\U0001F64F\"  # emoticons\n",
        "                           u\"\\U0001F300-\\U0001F5FF\"  # symbols & pictographs\n",
        "                           u\"\\U0001F680-\\U0001F6FF\"  # transport & map symbols\n",
        "                           u\"\\U0001F1E0-\\U0001F1FF\"  # flags (iOS)\n",
        "                           u\"\\U00002702-\\U000027B0\"\n",
        "                           u\"\\U000024C2-\\U0001F251\"\n",
        "                           \"]+\", flags=re.UNICODE)\n",
        "# Collect all clean-corpus technics into a function\n",
        "def clean_text(tweet):\n",
        "    \n",
        "    tweet = str(tweet).lower() # Make text lowercase\n",
        "    tweet = re.sub('\\[.*?\\]', '', tweet)\n",
        "    tweet = re.sub('https?://\\S+|www\\.\\S+', '', tweet)\n",
        "    tweet = re.sub('<.*?>+', '', tweet)\n",
        "    tweet = re.sub('[%s]' % re.escape(string.punctuation), '', tweet) # Remove Punctuation\n",
        "    tweet = re.sub('\\n', '', tweet)\n",
        "    tweet = re.sub('\\w*\\d\\w*', '', tweet)\n",
        "    \n",
        "    # Remove Emoji\n",
        "    tweet = emoji_pattern.sub(r'', tweet)\n",
        "    # Special characters\n",
        "    tweet = re.sub(r\"\\x89Û_\", \"\", tweet)\n",
        "    tweet = re.sub(r\"\\x89ÛÒ\", \"\", tweet)\n",
        "    tweet = re.sub(r\"\\x89ÛÓ\", \"\", tweet)\n",
        "    tweet = re.sub(r\"\\x89ÛÏWhen\", \"When\", tweet)\n",
        "    tweet = re.sub(r\"\\x89ÛÏ\", \"\", tweet)\n",
        "    tweet = re.sub(r\"China\\x89Ûªs\", \"China's\", tweet)\n",
        "    tweet = re.sub(r\"let\\x89Ûªs\", \"let's\", tweet)\n",
        "    tweet = re.sub(r\"\\x89Û÷\", \"\", tweet)\n",
        "    tweet = re.sub(r\"\\x89Ûª\", \"\", tweet)\n",
        "    tweet = re.sub(r\"\\x89Û\\x9d\", \"\", tweet)\n",
        "    tweet = re.sub(r\"å_\", \"\", tweet)\n",
        "    tweet = re.sub(r\"\\x89Û¢\", \"\", tweet)\n",
        "    tweet = re.sub(r\"\\x89Û¢åÊ\", \"\", tweet)\n",
        "    tweet = re.sub(r\"fromåÊwounds\", \"from wounds\", tweet)\n",
        "    tweet = re.sub(r\"åÊ\", \"\", tweet)\n",
        "    tweet = re.sub(r\"åÈ\", \"\", tweet)\n",
        "    tweet = re.sub(r\"JapÌ_n\", \"Japan\", tweet)    \n",
        "    tweet = re.sub(r\"Ì©\", \"e\", tweet)\n",
        "    tweet = re.sub(r\"å¨\", \"\", tweet)\n",
        "    tweet = re.sub(r\"SuruÌ¤\", \"Suruc\", tweet)\n",
        "    tweet = re.sub(r\"åÇ\", \"\", tweet)\n",
        "    tweet = re.sub(r\"å£3million\", \"3 million\", tweet)\n",
        "    tweet = re.sub(r\"åÀ\", \"\", tweet)\n",
        "    \n",
        "    # Contractions\n",
        "    tweet = re.sub(r\"he's\", \"he is\", tweet)\n",
        "    tweet = re.sub(r\"there's\", \"there is\", tweet)\n",
        "    tweet = re.sub(r\"We're\", \"We are\", tweet)\n",
        "    tweet = re.sub(r\"That's\", \"That is\", tweet)\n",
        "    tweet = re.sub(r\"won't\", \"will not\", tweet)\n",
        "    tweet = re.sub(r\"they're\", \"they are\", tweet)\n",
        "    tweet = re.sub(r\"Can't\", \"Cannot\", tweet)\n",
        "    tweet = re.sub(r\"wasn't\", \"was not\", tweet)\n",
        "    tweet = re.sub(r\"don\\x89Ûªt\", \"do not\", tweet)\n",
        "    tweet = re.sub(r\"aren't\", \"are not\", tweet)\n",
        "    tweet = re.sub(r\"isn't\", \"is not\", tweet)\n",
        "    tweet = re.sub(r\"What's\", \"What is\", tweet)\n",
        "    tweet = re.sub(r\"haven't\", \"have not\", tweet)\n",
        "    tweet = re.sub(r\"hasn't\", \"has not\", tweet)\n",
        "    tweet = re.sub(r\"There's\", \"There is\", tweet)\n",
        "    tweet = re.sub(r\"He's\", \"He is\", tweet)\n",
        "    tweet = re.sub(r\"It's\", \"It is\", tweet)\n",
        "    tweet = re.sub(r\"You're\", \"You are\", tweet)\n",
        "    tweet = re.sub(r\"I'M\", \"I am\", tweet)\n",
        "    tweet = re.sub(r\"shouldn't\", \"should not\", tweet)\n",
        "    tweet = re.sub(r\"wouldn't\", \"would not\", tweet)\n",
        "    tweet = re.sub(r\"i'm\", \"I am\", tweet)\n",
        "    tweet = re.sub(r\"I\\x89Ûªm\", \"I am\", tweet)\n",
        "    tweet = re.sub(r\"I'm\", \"I am\", tweet)\n",
        "    tweet = re.sub(r\"Isn't\", \"is not\", tweet)\n",
        "    tweet = re.sub(r\"Here's\", \"Here is\", tweet)\n",
        "    tweet = re.sub(r\"you've\", \"you have\", tweet)\n",
        "    tweet = re.sub(r\"you\\x89Ûªve\", \"you have\", tweet)\n",
        "    tweet = re.sub(r\"we're\", \"we are\", tweet)\n",
        "    tweet = re.sub(r\"what's\", \"what is\", tweet)\n",
        "    tweet = re.sub(r\"couldn't\", \"could not\", tweet)\n",
        "    tweet = re.sub(r\"we've\", \"we have\", tweet)\n",
        "    tweet = re.sub(r\"it\\x89Ûªs\", \"it is\", tweet)\n",
        "    tweet = re.sub(r\"doesn\\x89Ûªt\", \"does not\", tweet)\n",
        "    tweet = re.sub(r\"It\\x89Ûªs\", \"It is\", tweet)\n",
        "    tweet = re.sub(r\"Here\\x89Ûªs\", \"Here is\", tweet)\n",
        "    tweet = re.sub(r\"who's\", \"who is\", tweet)\n",
        "    tweet = re.sub(r\"I\\x89Ûªve\", \"I have\", tweet)\n",
        "    tweet = re.sub(r\"y'all\", \"you all\", tweet)\n",
        "    tweet = re.sub(r\"can\\x89Ûªt\", \"cannot\", tweet)\n",
        "    tweet = re.sub(r\"would've\", \"would have\", tweet)\n",
        "    tweet = re.sub(r\"it'll\", \"it will\", tweet)\n",
        "    tweet = re.sub(r\"we'll\", \"we will\", tweet)\n",
        "    tweet = re.sub(r\"wouldn\\x89Ûªt\", \"would not\", tweet)\n",
        "    tweet = re.sub(r\"We've\", \"We have\", tweet)\n",
        "    tweet = re.sub(r\"he'll\", \"he will\", tweet)\n",
        "    tweet = re.sub(r\"Y'all\", \"You all\", tweet)\n",
        "    tweet = re.sub(r\"Weren't\", \"Were not\", tweet)\n",
        "    tweet = re.sub(r\"Didn't\", \"Did not\", tweet)\n",
        "    tweet = re.sub(r\"they'll\", \"they will\", tweet)\n",
        "    tweet = re.sub(r\"they'd\", \"they would\", tweet)\n",
        "    tweet = re.sub(r\"DON'T\", \"DO NOT\", tweet)\n",
        "    tweet = re.sub(r\"That\\x89Ûªs\", \"That is\", tweet)\n",
        "    tweet = re.sub(r\"they've\", \"they have\", tweet)\n",
        "    tweet = re.sub(r\"i'd\", \"I would\", tweet)\n",
        "    tweet = re.sub(r\"should've\", \"should have\", tweet)\n",
        "    tweet = re.sub(r\"You\\x89Ûªre\", \"You are\", tweet)\n",
        "    tweet = re.sub(r\"where's\", \"where is\", tweet)\n",
        "    tweet = re.sub(r\"Don\\x89Ûªt\", \"Do not\", tweet)\n",
        "    tweet = re.sub(r\"we'd\", \"we would\", tweet)\n",
        "    tweet = re.sub(r\"i'll\", \"I will\", tweet)\n",
        "    tweet = re.sub(r\"weren't\", \"were not\", tweet)\n",
        "    tweet = re.sub(r\"They're\", \"They are\", tweet)\n",
        "    tweet = re.sub(r\"Can\\x89Ûªt\", \"Cannot\", tweet)\n",
        "    tweet = re.sub(r\"you\\x89Ûªll\", \"you will\", tweet)\n",
        "    tweet = re.sub(r\"I\\x89Ûªd\", \"I would\", tweet)\n",
        "    tweet = re.sub(r\"let's\", \"let us\", tweet)\n",
        "    tweet = re.sub(r\"it's\", \"it is\", tweet)\n",
        "    tweet = re.sub(r\"can't\", \"cannot\", tweet)\n",
        "    tweet = re.sub(r\"don't\", \"do not\", tweet)\n",
        "    tweet = re.sub(r\"you're\", \"you are\", tweet)\n",
        "    tweet = re.sub(r\"i've\", \"I have\", tweet)\n",
        "    tweet = re.sub(r\"that's\", \"that is\", tweet)\n",
        "    tweet = re.sub(r\"i'll\", \"I will\", tweet)\n",
        "    tweet = re.sub(r\"doesn't\", \"does not\", tweet)\n",
        "    tweet = re.sub(r\"i'd\", \"I would\", tweet)\n",
        "    tweet = re.sub(r\"didn't\", \"did not\", tweet)\n",
        "    tweet = re.sub(r\"ain't\", \"am not\", tweet)\n",
        "    tweet = re.sub(r\"you'll\", \"you will\", tweet)\n",
        "    tweet = re.sub(r\"I've\", \"I have\", tweet)\n",
        "    tweet = re.sub(r\"Don't\", \"do not\", tweet)\n",
        "    tweet = re.sub(r\"I'll\", \"I will\", tweet)\n",
        "    tweet = re.sub(r\"I'd\", \"I would\", tweet)\n",
        "    tweet = re.sub(r\"Let's\", \"Let us\", tweet)\n",
        "    tweet = re.sub(r\"you'd\", \"You would\", tweet)\n",
        "    tweet = re.sub(r\"It's\", \"It is\", tweet)\n",
        "    tweet = re.sub(r\"Ain't\", \"am not\", tweet)\n",
        "    tweet = re.sub(r\"Haven't\", \"Have not\", tweet)\n",
        "    tweet = re.sub(r\"Could've\", \"Could have\", tweet)\n",
        "    tweet = re.sub(r\"youve\", \"you have\", tweet)  \n",
        "    tweet = re.sub(r\"donå«t\", \"do not\", tweet)   \n",
        "    \n",
        "    # Character entity references\n",
        "    tweet = re.sub(r\"&gt;\", \">\", tweet)\n",
        "    tweet = re.sub(r\"&lt;\", \"<\", tweet)\n",
        "    tweet = re.sub(r\"&amp;\", \"&\", tweet)\n",
        "    \n",
        "    # Typos, slang and informal abbreviations\n",
        "    tweet = re.sub(r\"w/e\", \"whatever\", tweet)\n",
        "    tweet = re.sub(r\"w/\", \"with\", tweet)\n",
        "    tweet = re.sub(r\"USAgov\", \"USA government\", tweet)\n",
        "    tweet = re.sub(r\"recentlu\", \"recently\", tweet)\n",
        "    tweet = re.sub(r\"Ph0tos\", \"Photos\", tweet)\n",
        "    tweet = re.sub(r\"amirite\", \"am I right\", tweet)\n",
        "    tweet = re.sub(r\"exp0sed\", \"exposed\", tweet)\n",
        "    tweet = re.sub(r\"<3\", \"love\", tweet)\n",
        "    tweet = re.sub(r\"amageddon\", \"armageddon\", tweet)\n",
        "    tweet = re.sub(r\"Trfc\", \"Traffic\", tweet)\n",
        "    tweet = re.sub(r\"8/5/2015\", \"2015-08-05\", tweet)\n",
        "    tweet = re.sub(r\"WindStorm\", \"Wind Storm\", tweet)\n",
        "    tweet = re.sub(r\"8/6/2015\", \"2015-08-06\", tweet)\n",
        "    tweet = re.sub(r\"10:38PM\", \"10:38 PM\", tweet)\n",
        "    tweet = re.sub(r\"10:30pm\", \"10:30 PM\", tweet)\n",
        "    tweet = re.sub(r\"16yr\", \"16 year\", tweet)\n",
        "    tweet = re.sub(r\"lmao\", \"laughing my ass off\", tweet)   \n",
        "    tweet = re.sub(r\"TRAUMATISED\", \"traumatized\", tweet)\n",
        "    \n",
        "    # Hashtags and usernames\n",
        "    tweet = re.sub(r\"IranDeal\", \"Iran Deal\", tweet)\n",
        "    tweet = re.sub(r\"ArianaGrande\", \"Ariana Grande\", tweet)\n",
        "    tweet = re.sub(r\"camilacabello97\", \"camila cabello\", tweet) \n",
        "    tweet = re.sub(r\"RondaRousey\", \"Ronda Rousey\", tweet)     \n",
        "    tweet = re.sub(r\"MTVHottest\", \"MTV Hottest\", tweet)\n",
        "    tweet = re.sub(r\"TrapMusic\", \"Trap Music\", tweet)\n",
        "    tweet = re.sub(r\"ProphetMuhammad\", \"Prophet Muhammad\", tweet)\n",
        "    tweet = re.sub(r\"PantherAttack\", \"Panther Attack\", tweet)\n",
        "    tweet = re.sub(r\"StrategicPatience\", \"Strategic Patience\", tweet)\n",
        "    tweet = re.sub(r\"socialnews\", \"social news\", tweet)\n",
        "    tweet = re.sub(r\"NASAHurricane\", \"NASA Hurricane\", tweet)\n",
        "    tweet = re.sub(r\"onlinecommunities\", \"online communities\", tweet)\n",
        "    tweet = re.sub(r\"humanconsumption\", \"human consumption\", tweet)\n",
        "    tweet = re.sub(r\"Typhoon-Devastated\", \"Typhoon Devastated\", tweet)\n",
        "    tweet = re.sub(r\"Meat-Loving\", \"Meat Loving\", tweet)\n",
        "    tweet = re.sub(r\"facialabuse\", \"facial abuse\", tweet)\n",
        "    tweet = re.sub(r\"LakeCounty\", \"Lake County\", tweet)\n",
        "    tweet = re.sub(r\"BeingAuthor\", \"Being Author\", tweet)\n",
        "    tweet = re.sub(r\"withheavenly\", \"with heavenly\", tweet)\n",
        "    tweet = re.sub(r\"thankU\", \"thank you\", tweet)\n",
        "    tweet = re.sub(r\"iTunesMusic\", \"iTunes Music\", tweet)\n",
        "    tweet = re.sub(r\"OffensiveContent\", \"Offensive Content\", tweet)\n",
        "    tweet = re.sub(r\"WorstSummerJob\", \"Worst Summer Job\", tweet)\n",
        "    tweet = re.sub(r\"HarryBeCareful\", \"Harry Be Careful\", tweet)\n",
        "    tweet = re.sub(r\"NASASolarSystem\", \"NASA Solar System\", tweet)\n",
        "    tweet = re.sub(r\"animalrescue\", \"animal rescue\", tweet)\n",
        "    tweet = re.sub(r\"KurtSchlichter\", \"Kurt Schlichter\", tweet)\n",
        "    tweet = re.sub(r\"aRmageddon\", \"armageddon\", tweet)\n",
        "    tweet = re.sub(r\"Throwingknifes\", \"Throwing knives\", tweet)\n",
        "    tweet = re.sub(r\"GodsLove\", \"God's Love\", tweet)\n",
        "    tweet = re.sub(r\"bookboost\", \"book boost\", tweet)\n",
        "    tweet = re.sub(r\"ibooklove\", \"I book love\", tweet)\n",
        "    tweet = re.sub(r\"NestleIndia\", \"Nestle India\", tweet)\n",
        "    tweet = re.sub(r\"realDonaldTrump\", \"Donald Trump\", tweet)\n",
        "    tweet = re.sub(r\"DavidVonderhaar\", \"David Vonderhaar\", tweet)\n",
        "    tweet = re.sub(r\"CecilTheLion\", \"Cecil The Lion\", tweet)\n",
        "    tweet = re.sub(r\"weathernetwork\", \"weather network\", tweet)\n",
        "    tweet = re.sub(r\"withBioterrorism&use\", \"with Bioterrorism & use\", tweet)\n",
        "    tweet = re.sub(r\"Hostage&2\", \"Hostage & 2\", tweet)\n",
        "    tweet = re.sub(r\"GOPDebate\", \"GOP Debate\", tweet)\n",
        "    tweet = re.sub(r\"RickPerry\", \"Rick Perry\", tweet)\n",
        "    tweet = re.sub(r\"frontpage\", \"front page\", tweet)\n",
        "    tweet = re.sub(r\"NewsInTweets\", \"News In Tweets\", tweet)\n",
        "    tweet = re.sub(r\"ViralSpell\", \"Viral Spell\", tweet)\n",
        "    tweet = re.sub(r\"til_now\", \"until now\", tweet)\n",
        "    tweet = re.sub(r\"volcanoinRussia\", \"volcano in Russia\", tweet)\n",
        "    tweet = re.sub(r\"ZippedNews\", \"Zipped News\", tweet)\n",
        "    tweet = re.sub(r\"MicheleBachman\", \"Michele Bachman\", tweet)\n",
        "    tweet = re.sub(r\"53inch\", \"53 inch\", tweet)\n",
        "    tweet = re.sub(r\"KerrickTrial\", \"Kerrick Trial\", tweet)\n",
        "    tweet = re.sub(r\"abstorm\", \"Alberta Storm\", tweet)\n",
        "    tweet = re.sub(r\"Beyhive\", \"Beyonce hive\", tweet)\n",
        "    tweet = re.sub(r\"IDFire\", \"Idaho Fire\", tweet)\n",
        "    tweet = re.sub(r\"DETECTADO\", \"Detected\", tweet)\n",
        "    tweet = re.sub(r\"RockyFire\", \"Rocky Fire\", tweet)\n",
        "    tweet = re.sub(r\"Listen/Buy\", \"Listen / Buy\", tweet)\n",
        "    tweet = re.sub(r\"NickCannon\", \"Nick Cannon\", tweet)\n",
        "    tweet = re.sub(r\"FaroeIslands\", \"Faroe Islands\", tweet)\n",
        "    tweet = re.sub(r\"yycstorm\", \"Calgary Storm\", tweet)\n",
        "    tweet = re.sub(r\"IDPs:\", \"Internally Displaced People :\", tweet)\n",
        "    tweet = re.sub(r\"ArtistsUnited\", \"Artists United\", tweet)\n",
        "    tweet = re.sub(r\"ClaytonBryant\", \"Clayton Bryant\", tweet)\n",
        "    tweet = re.sub(r\"jimmyfallon\", \"jimmy fallon\", tweet)\n",
        "    tweet = re.sub(r\"justinbieber\", \"justin bieber\", tweet)  \n",
        "    tweet = re.sub(r\"UTC2015\", \"UTC 2015\", tweet)\n",
        "    tweet = re.sub(r\"Time2015\", \"Time 2015\", tweet)\n",
        "    tweet = re.sub(r\"djicemoon\", \"dj icemoon\", tweet)\n",
        "    tweet = re.sub(r\"LivingSafely\", \"Living Safely\", tweet)\n",
        "    tweet = re.sub(r\"FIFA16\", \"Fifa 2016\", tweet)\n",
        "    tweet = re.sub(r\"thisiswhywecanthavenicethings\", \"this is why we cannot have nice things\", tweet)\n",
        "    tweet = re.sub(r\"bbcnews\", \"bbc news\", tweet)\n",
        "    tweet = re.sub(r\"UndergroundRailraod\", \"Underground Railraod\", tweet)\n",
        "    tweet = re.sub(r\"c4news\", \"c4 news\", tweet)\n",
        "    tweet = re.sub(r\"OBLITERATION\", \"obliteration\", tweet)\n",
        "    tweet = re.sub(r\"MUDSLIDE\", \"mudslide\", tweet)\n",
        "    tweet = re.sub(r\"NoSurrender\", \"No Surrender\", tweet)\n",
        "    tweet = re.sub(r\"NotExplained\", \"Not Explained\", tweet)\n",
        "    tweet = re.sub(r\"greatbritishbakeoff\", \"great british bake off\", tweet)\n",
        "    tweet = re.sub(r\"LondonFire\", \"London Fire\", tweet)\n",
        "    tweet = re.sub(r\"KOTAWeather\", \"KOTA Weather\", tweet)\n",
        "    tweet = re.sub(r\"LuchaUnderground\", \"Lucha Underground\", tweet)\n",
        "    tweet = re.sub(r\"KOIN6News\", \"KOIN 6 News\", tweet)\n",
        "    tweet = re.sub(r\"LiveOnK2\", \"Live On K2\", tweet)\n",
        "    tweet = re.sub(r\"9NewsGoldCoast\", \"9 News Gold Coast\", tweet)\n",
        "    tweet = re.sub(r\"nikeplus\", \"nike plus\", tweet)\n",
        "    tweet = re.sub(r\"david_cameron\", \"David Cameron\", tweet)\n",
        "    tweet = re.sub(r\"peterjukes\", \"Peter Jukes\", tweet)\n",
        "    tweet = re.sub(r\"JamesMelville\", \"James Melville\", tweet)\n",
        "    tweet = re.sub(r\"megynkelly\", \"Megyn Kelly\", tweet)\n",
        "    tweet = re.sub(r\"cnewslive\", \"C News Live\", tweet)\n",
        "    tweet = re.sub(r\"JamaicaObserver\", \"Jamaica Observer\", tweet)\n",
        "    tweet = re.sub(r\"TweetLikeItsSeptember11th2001\", \"Tweet like it is september 11th 2001\", tweet)\n",
        "    tweet = re.sub(r\"cbplawyers\", \"cbp lawyers\", tweet)\n",
        "    tweet = re.sub(r\"fewmoretweets\", \"few more tweets\", tweet)\n",
        "    tweet = re.sub(r\"BlackLivesMatter\", \"Black Lives Matter\", tweet)\n",
        "    tweet = re.sub(r\"cjoyner\", \"Chris Joyner\", tweet)\n",
        "    tweet = re.sub(r\"ENGvAUS\", \"England vs Australia\", tweet)\n",
        "    tweet = re.sub(r\"ScottWalker\", \"Scott Walker\", tweet)\n",
        "    tweet = re.sub(r\"MikeParrActor\", \"Michael Parr\", tweet)\n",
        "    tweet = re.sub(r\"4PlayThursdays\", \"Foreplay Thursdays\", tweet)\n",
        "    tweet = re.sub(r\"TGF2015\", \"Tontitown Grape Festival\", tweet)\n",
        "    tweet = re.sub(r\"realmandyrain\", \"Mandy Rain\", tweet)\n",
        "    tweet = re.sub(r\"GraysonDolan\", \"Grayson Dolan\", tweet)\n",
        "    tweet = re.sub(r\"ApolloBrown\", \"Apollo Brown\", tweet)\n",
        "    tweet = re.sub(r\"saddlebrooke\", \"Saddlebrooke\", tweet)\n",
        "    tweet = re.sub(r\"TontitownGrape\", \"Tontitown Grape\", tweet)\n",
        "    tweet = re.sub(r\"AbbsWinston\", \"Abbs Winston\", tweet)\n",
        "    tweet = re.sub(r\"ShaunKing\", \"Shaun King\", tweet)\n",
        "    tweet = re.sub(r\"MeekMill\", \"Meek Mill\", tweet)\n",
        "    tweet = re.sub(r\"TornadoGiveaway\", \"Tornado Giveaway\", tweet)\n",
        "    tweet = re.sub(r\"GRupdates\", \"GR updates\", tweet)\n",
        "    tweet = re.sub(r\"SouthDowns\", \"South Downs\", tweet)\n",
        "    tweet = re.sub(r\"braininjury\", \"brain injury\", tweet)\n",
        "    tweet = re.sub(r\"auspol\", \"Australian politics\", tweet)\n",
        "    tweet = re.sub(r\"PlannedParenthood\", \"Planned Parenthood\", tweet)\n",
        "    tweet = re.sub(r\"calgaryweather\", \"Calgary Weather\", tweet)\n",
        "    tweet = re.sub(r\"weallheartonedirection\", \"we all heart one direction\", tweet)\n",
        "    tweet = re.sub(r\"edsheeran\", \"Ed Sheeran\", tweet)\n",
        "    tweet = re.sub(r\"TrueHeroes\", \"True Heroes\", tweet)\n",
        "    tweet = re.sub(r\"S3XLEAK\", \"sex leak\", tweet)\n",
        "    tweet = re.sub(r\"ComplexMag\", \"Complex Magazine\", tweet)\n",
        "    tweet = re.sub(r\"TheAdvocateMag\", \"The Advocate Magazine\", tweet)\n",
        "    tweet = re.sub(r\"CityofCalgary\", \"City of Calgary\", tweet)\n",
        "    tweet = re.sub(r\"EbolaOutbreak\", \"Ebola Outbreak\", tweet)\n",
        "    tweet = re.sub(r\"SummerFate\", \"Summer Fate\", tweet)\n",
        "    tweet = re.sub(r\"RAmag\", \"Royal Academy Magazine\", tweet)\n",
        "    tweet = re.sub(r\"offers2go\", \"offers to go\", tweet)\n",
        "    tweet = re.sub(r\"foodscare\", \"food scare\", tweet)\n",
        "    tweet = re.sub(r\"MNPDNashville\", \"Metropolitan Nashville Police Department\", tweet)\n",
        "    tweet = re.sub(r\"TfLBusAlerts\", \"TfL Bus Alerts\", tweet)\n",
        "    tweet = re.sub(r\"GamerGate\", \"Gamer Gate\", tweet)\n",
        "    tweet = re.sub(r\"IHHen\", \"Humanitarian Relief\", tweet)\n",
        "    tweet = re.sub(r\"spinningbot\", \"spinning bot\", tweet)\n",
        "    tweet = re.sub(r\"ModiMinistry\", \"Modi Ministry\", tweet)\n",
        "    tweet = re.sub(r\"TAXIWAYS\", \"taxi ways\", tweet)\n",
        "    tweet = re.sub(r\"Calum5SOS\", \"Calum Hood\", tweet)\n",
        "    tweet = re.sub(r\"po_st\", \"po.st\", tweet)\n",
        "    tweet = re.sub(r\"scoopit\", \"scoop.it\", tweet)\n",
        "    tweet = re.sub(r\"UltimaLucha\", \"Ultima Lucha\", tweet)\n",
        "    tweet = re.sub(r\"JonathanFerrell\", \"Jonathan Ferrell\", tweet)\n",
        "    tweet = re.sub(r\"aria_ahrary\", \"Aria Ahrary\", tweet)\n",
        "    tweet = re.sub(r\"rapidcity\", \"Rapid City\", tweet)\n",
        "    tweet = re.sub(r\"OutBid\", \"outbid\", tweet)\n",
        "    tweet = re.sub(r\"lavenderpoetrycafe\", \"lavender poetry cafe\", tweet)\n",
        "    tweet = re.sub(r\"EudryLantiqua\", \"Eudry Lantiqua\", tweet)\n",
        "    tweet = re.sub(r\"15PM\", \"15 PM\", tweet)\n",
        "    tweet = re.sub(r\"OriginalFunko\", \"Funko\", tweet)\n",
        "    tweet = re.sub(r\"rightwaystan\", \"Richard Tan\", tweet)\n",
        "    tweet = re.sub(r\"CindyNoonan\", \"Cindy Noonan\", tweet)\n",
        "    tweet = re.sub(r\"RT_America\", \"RT America\", tweet)\n",
        "    tweet = re.sub(r\"narendramodi\", \"Narendra Modi\", tweet)\n",
        "    tweet = re.sub(r\"BakeOffFriends\", \"Bake Off Friends\", tweet)\n",
        "    tweet = re.sub(r\"TeamHendrick\", \"Hendrick Motorsports\", tweet)\n",
        "    tweet = re.sub(r\"alexbelloli\", \"Alex Belloli\", tweet)\n",
        "    tweet = re.sub(r\"itsjustinstuart\", \"Justin Stuart\", tweet)\n",
        "    tweet = re.sub(r\"gunsense\", \"gun sense\", tweet)\n",
        "    tweet = re.sub(r\"DebateQuestionsWeWantToHear\", \"debate questions we want to hear\", tweet)\n",
        "    tweet = re.sub(r\"RoyalCarribean\", \"Royal Carribean\", tweet)\n",
        "    tweet = re.sub(r\"samanthaturne19\", \"Samantha Turner\", tweet)\n",
        "    tweet = re.sub(r\"JonVoyage\", \"Jon Stewart\", tweet)\n",
        "    tweet = re.sub(r\"renew911health\", \"renew 911 health\", tweet)\n",
        "    tweet = re.sub(r\"SuryaRay\", \"Surya Ray\", tweet)\n",
        "    tweet = re.sub(r\"pattonoswalt\", \"Patton Oswalt\", tweet)\n",
        "    tweet = re.sub(r\"minhazmerchant\", \"Minhaz Merchant\", tweet)\n",
        "    tweet = re.sub(r\"TLVFaces\", \"Israel Diaspora Coalition\", tweet)\n",
        "    tweet = re.sub(r\"pmarca\", \"Marc Andreessen\", tweet)\n",
        "    tweet = re.sub(r\"pdx911\", \"Portland Police\", tweet)\n",
        "    tweet = re.sub(r\"jamaicaplain\", \"Jamaica Plain\", tweet)\n",
        "    tweet = re.sub(r\"Japton\", \"Arkansas\", tweet)\n",
        "    tweet = re.sub(r\"RouteComplex\", \"Route Complex\", tweet)\n",
        "    tweet = re.sub(r\"INSubcontinent\", \"Indian Subcontinent\", tweet)\n",
        "    tweet = re.sub(r\"NJTurnpike\", \"New Jersey Turnpike\", tweet)\n",
        "    tweet = re.sub(r\"Politifiact\", \"PolitiFact\", tweet)\n",
        "    tweet = re.sub(r\"Hiroshima70\", \"Hiroshima\", tweet)\n",
        "    tweet = re.sub(r\"GMMBC\", \"Greater Mt Moriah Baptist Church\", tweet)\n",
        "    tweet = re.sub(r\"versethe\", \"verse the\", tweet)\n",
        "    tweet = re.sub(r\"TubeStrike\", \"Tube Strike\", tweet)\n",
        "    tweet = re.sub(r\"MissionHills\", \"Mission Hills\", tweet)\n",
        "    tweet = re.sub(r\"ProtectDenaliWolves\", \"Protect Denali Wolves\", tweet)\n",
        "    tweet = re.sub(r\"NANKANA\", \"Nankana\", tweet)\n",
        "    tweet = re.sub(r\"SAHIB\", \"Sahib\", tweet)\n",
        "    tweet = re.sub(r\"PAKPATTAN\", \"Pakpattan\", tweet)\n",
        "    tweet = re.sub(r\"Newz_Sacramento\", \"News Sacramento\", tweet)\n",
        "    tweet = re.sub(r\"gofundme\", \"go fund me\", tweet)\n",
        "    tweet = re.sub(r\"pmharper\", \"Stephen Harper\", tweet)\n",
        "    tweet = re.sub(r\"IvanBerroa\", \"Ivan Berroa\", tweet)\n",
        "    tweet = re.sub(r\"LosDelSonido\", \"Los Del Sonido\", tweet)\n",
        "    tweet = re.sub(r\"bancodeseries\", \"banco de series\", tweet)\n",
        "    tweet = re.sub(r\"timkaine\", \"Tim Kaine\", tweet)\n",
        "    tweet = re.sub(r\"IdentityTheft\", \"Identity Theft\", tweet)\n",
        "    tweet = re.sub(r\"AllLivesMatter\", \"All Lives Matter\", tweet)\n",
        "    tweet = re.sub(r\"mishacollins\", \"Misha Collins\", tweet)\n",
        "    tweet = re.sub(r\"BillNeelyNBC\", \"Bill Neely\", tweet)\n",
        "    tweet = re.sub(r\"BeClearOnCancer\", \"be clear on cancer\", tweet)\n",
        "    tweet = re.sub(r\"Kowing\", \"Knowing\", tweet)\n",
        "    tweet = re.sub(r\"ScreamQueens\", \"Scream Queens\", tweet)\n",
        "    tweet = re.sub(r\"AskCharley\", \"Ask Charley\", tweet)\n",
        "    tweet = re.sub(r\"BlizzHeroes\", \"Heroes of the Storm\", tweet)\n",
        "    tweet = re.sub(r\"BradleyBrad47\", \"Bradley Brad\", tweet)\n",
        "    tweet = re.sub(r\"HannaPH\", \"Typhoon Hanna\", tweet)\n",
        "    tweet = re.sub(r\"meinlcymbals\", \"MEINL Cymbals\", tweet)\n",
        "    tweet = re.sub(r\"Ptbo\", \"Peterborough\", tweet)\n",
        "    tweet = re.sub(r\"cnnbrk\", \"CNN Breaking News\", tweet)\n",
        "    tweet = re.sub(r\"IndianNews\", \"Indian News\", tweet)\n",
        "    tweet = re.sub(r\"savebees\", \"save bees\", tweet)\n",
        "    tweet = re.sub(r\"GreenHarvard\", \"Green Harvard\", tweet)\n",
        "    tweet = re.sub(r\"StandwithPP\", \"Stand with planned parenthood\", tweet)\n",
        "    tweet = re.sub(r\"hermancranston\", \"Herman Cranston\", tweet)\n",
        "    tweet = re.sub(r\"WMUR9\", \"WMUR-TV\", tweet)\n",
        "    tweet = re.sub(r\"RockBottomRadFM\", \"Rock Bottom Radio\", tweet)\n",
        "    tweet = re.sub(r\"ameenshaikh3\", \"Ameen Shaikh\", tweet)\n",
        "    tweet = re.sub(r\"ProSyn\", \"Project Syndicate\", tweet)\n",
        "    tweet = re.sub(r\"Daesh\", \"ISIS\", tweet)\n",
        "    tweet = re.sub(r\"s2g\", \"swear to god\", tweet)\n",
        "    tweet = re.sub(r\"listenlive\", \"listen live\", tweet)\n",
        "    tweet = re.sub(r\"CDCgov\", \"Centers for Disease Control and Prevention\", tweet)\n",
        "    tweet = re.sub(r\"FoxNew\", \"Fox News\", tweet)\n",
        "    tweet = re.sub(r\"CBSBigBrother\", \"Big Brother\", tweet)\n",
        "    tweet = re.sub(r\"JulieDiCaro\", \"Julie DiCaro\", tweet)\n",
        "    tweet = re.sub(r\"theadvocatemag\", \"The Advocate Magazine\", tweet)\n",
        "    tweet = re.sub(r\"RohnertParkDPS\", \"Rohnert Park Police Department\", tweet)\n",
        "    tweet = re.sub(r\"THISIZBWRIGHT\", \"Bonnie Wright\", tweet)\n",
        "    tweet = re.sub(r\"Popularmmos\", \"Popular MMOs\", tweet)\n",
        "    tweet = re.sub(r\"WildHorses\", \"Wild Horses\", tweet)\n",
        "    tweet = re.sub(r\"FantasticFour\", \"Fantastic Four\", tweet)\n",
        "    tweet = re.sub(r\"HORNDALE\", \"Horndale\", tweet)\n",
        "    tweet = re.sub(r\"PINER\", \"Piner\", tweet)\n",
        "    tweet = re.sub(r\"BathAndNorthEastSomerset\", \"Bath and North East Somerset\", tweet)\n",
        "    tweet = re.sub(r\"thatswhatfriendsarefor\", \"that is what friends are for\", tweet)\n",
        "    tweet = re.sub(r\"residualincome\", \"residual income\", tweet)\n",
        "    tweet = re.sub(r\"YahooNewsDigest\", \"Yahoo News Digest\", tweet)\n",
        "    tweet = re.sub(r\"MalaysiaAirlines\", \"Malaysia Airlines\", tweet)\n",
        "    tweet = re.sub(r\"AmazonDeals\", \"Amazon Deals\", tweet)\n",
        "    tweet = re.sub(r\"MissCharleyWebb\", \"Charley Webb\", tweet)\n",
        "    tweet = re.sub(r\"shoalstraffic\", \"shoals traffic\", tweet)\n",
        "    tweet = re.sub(r\"GeorgeFoster72\", \"George Foster\", tweet)\n",
        "    tweet = re.sub(r\"pop2015\", \"pop 2015\", tweet)\n",
        "    tweet = re.sub(r\"_PokemonCards_\", \"Pokemon Cards\", tweet)\n",
        "    tweet = re.sub(r\"DianneG\", \"Dianne Gallagher\", tweet)\n",
        "    tweet = re.sub(r\"KashmirConflict\", \"Kashmir Conflict\", tweet)\n",
        "    tweet = re.sub(r\"BritishBakeOff\", \"British Bake Off\", tweet)\n",
        "    tweet = re.sub(r\"FreeKashmir\", \"Free Kashmir\", tweet)\n",
        "    tweet = re.sub(r\"mattmosley\", \"Matt Mosley\", tweet)\n",
        "    tweet = re.sub(r\"BishopFred\", \"Bishop Fred\", tweet)\n",
        "    tweet = re.sub(r\"EndConflict\", \"End Conflict\", tweet)\n",
        "    tweet = re.sub(r\"EndOccupation\", \"End Occupation\", tweet)\n",
        "    tweet = re.sub(r\"UNHEALED\", \"unhealed\", tweet)\n",
        "    tweet = re.sub(r\"CharlesDagnall\", \"Charles Dagnall\", tweet)\n",
        "    tweet = re.sub(r\"Latestnews\", \"Latest news\", tweet)\n",
        "    tweet = re.sub(r\"KindleCountdown\", \"Kindle Countdown\", tweet)\n",
        "    tweet = re.sub(r\"NoMoreHandouts\", \"No More Handouts\", tweet)\n",
        "    tweet = re.sub(r\"datingtips\", \"dating tips\", tweet)\n",
        "    tweet = re.sub(r\"charlesadler\", \"Charles Adler\", tweet)\n",
        "    tweet = re.sub(r\"twia\", \"Texas Windstorm Insurance Association\", tweet)\n",
        "    tweet = re.sub(r\"txlege\", \"Texas Legislature\", tweet)\n",
        "    tweet = re.sub(r\"WindstormInsurer\", \"Windstorm Insurer\", tweet)\n",
        "    tweet = re.sub(r\"Newss\", \"News\", tweet)\n",
        "    tweet = re.sub(r\"hempoil\", \"hemp oil\", tweet)\n",
        "    tweet = re.sub(r\"CommoditiesAre\", \"Commodities are\", tweet)\n",
        "    tweet = re.sub(r\"tubestrike\", \"tube strike\", tweet)\n",
        "    tweet = re.sub(r\"JoeNBC\", \"Joe Scarborough\", tweet)\n",
        "    tweet = re.sub(r\"LiteraryCakes\", \"Literary Cakes\", tweet)\n",
        "    tweet = re.sub(r\"TI5\", \"The International 5\", tweet)\n",
        "    tweet = re.sub(r\"thehill\", \"the hill\", tweet)\n",
        "    tweet = re.sub(r\"3others\", \"3 others\", tweet)\n",
        "    tweet = re.sub(r\"stighefootball\", \"Sam Tighe\", tweet)\n",
        "    tweet = re.sub(r\"whatstheimportantvideo\", \"what is the important video\", tweet)\n",
        "    tweet = re.sub(r\"ClaudioMeloni\", \"Claudio Meloni\", tweet)\n",
        "    tweet = re.sub(r\"DukeSkywalker\", \"Duke Skywalker\", tweet)\n",
        "    tweet = re.sub(r\"carsonmwr\", \"Fort Carson\", tweet)\n",
        "    tweet = re.sub(r\"offdishduty\", \"off dish duty\", tweet)\n",
        "    tweet = re.sub(r\"andword\", \"and word\", tweet)\n",
        "    tweet = re.sub(r\"rhodeisland\", \"Rhode Island\", tweet)\n",
        "    tweet = re.sub(r\"easternoregon\", \"Eastern Oregon\", tweet)\n",
        "    tweet = re.sub(r\"WAwildfire\", \"Washington Wildfire\", tweet)\n",
        "    tweet = re.sub(r\"fingerrockfire\", \"Finger Rock Fire\", tweet)\n",
        "    tweet = re.sub(r\"57am\", \"57 am\", tweet)\n",
        "    tweet = re.sub(r\"fingerrockfire\", \"Finger Rock Fire\", tweet)\n",
        "    tweet = re.sub(r\"JacobHoggard\", \"Jacob Hoggard\", tweet)\n",
        "    tweet = re.sub(r\"newnewnew\", \"new new new\", tweet)\n",
        "    tweet = re.sub(r\"under50\", \"under 50\", tweet)\n",
        "    tweet = re.sub(r\"getitbeforeitsgone\", \"get it before it is gone\", tweet)\n",
        "    tweet = re.sub(r\"freshoutofthebox\", \"fresh out of the box\", tweet)\n",
        "    tweet = re.sub(r\"amwriting\", \"am writing\", tweet)\n",
        "    tweet = re.sub(r\"Bokoharm\", \"Boko Haram\", tweet)\n",
        "    tweet = re.sub(r\"Nowlike\", \"Now like\", tweet)\n",
        "    tweet = re.sub(r\"seasonfrom\", \"season from\", tweet)\n",
        "    tweet = re.sub(r\"epicente\", \"epicenter\", tweet)\n",
        "    tweet = re.sub(r\"epicenterr\", \"epicenter\", tweet)\n",
        "    tweet = re.sub(r\"sicklife\", \"sick life\", tweet)\n",
        "    tweet = re.sub(r\"yycweather\", \"Calgary Weather\", tweet)\n",
        "    tweet = re.sub(r\"calgarysun\", \"Calgary Sun\", tweet)\n",
        "    tweet = re.sub(r\"approachng\", \"approaching\", tweet)\n",
        "    tweet = re.sub(r\"evng\", \"evening\", tweet)\n",
        "    tweet = re.sub(r\"Sumthng\", \"something\", tweet)\n",
        "    tweet = re.sub(r\"EllenPompeo\", \"Ellen Pompeo\", tweet)\n",
        "    tweet = re.sub(r\"shondarhimes\", \"Shonda Rhimes\", tweet)\n",
        "    tweet = re.sub(r\"ABCNetwork\", \"ABC Network\", tweet)\n",
        "    tweet = re.sub(r\"SushmaSwaraj\", \"Sushma Swaraj\", tweet)\n",
        "    tweet = re.sub(r\"pray4japan\", \"Pray for Japan\", tweet)\n",
        "    tweet = re.sub(r\"hope4japan\", \"Hope for Japan\", tweet)\n",
        "    tweet = re.sub(r\"Illusionimagess\", \"Illusion images\", tweet)\n",
        "    tweet = re.sub(r\"SummerUnderTheStars\", \"Summer Under The Stars\", tweet)\n",
        "    tweet = re.sub(r\"ShallWeDance\", \"Shall We Dance\", tweet)\n",
        "    tweet = re.sub(r\"TCMParty\", \"TCM Party\", tweet)\n",
        "    tweet = re.sub(r\"marijuananews\", \"marijuana news\", tweet)\n",
        "    tweet = re.sub(r\"onbeingwithKristaTippett\", \"on being with Krista Tippett\", tweet)\n",
        "    tweet = re.sub(r\"Beingtweets\", \"Being tweets\", tweet)\n",
        "    tweet = re.sub(r\"newauthors\", \"new authors\", tweet)\n",
        "    tweet = re.sub(r\"remedyyyy\", \"remedy\", tweet)\n",
        "    tweet = re.sub(r\"44PM\", \"44 PM\", tweet)\n",
        "    tweet = re.sub(r\"HeadlinesApp\", \"Headlines App\", tweet)\n",
        "    tweet = re.sub(r\"40PM\", \"40 PM\", tweet)\n",
        "    tweet = re.sub(r\"myswc\", \"Severe Weather Center\", tweet)\n",
        "    tweet = re.sub(r\"ithats\", \"that is\", tweet)\n",
        "    tweet = re.sub(r\"icouldsitinthismomentforever\", \"I could sit in this moment forever\", tweet)\n",
        "    tweet = re.sub(r\"FatLoss\", \"Fat Loss\", tweet)\n",
        "    tweet = re.sub(r\"02PM\", \"02 PM\", tweet)\n",
        "    tweet = re.sub(r\"MetroFmTalk\", \"Metro Fm Talk\", tweet)\n",
        "    tweet = re.sub(r\"Bstrd\", \"bastard\", tweet)\n",
        "    tweet = re.sub(r\"bldy\", \"bloody\", tweet)\n",
        "    tweet = re.sub(r\"MetrofmTalk\", \"Metro Fm Talk\", tweet)\n",
        "    tweet = re.sub(r\"terrorismturn\", \"terrorism turn\", tweet)\n",
        "    tweet = re.sub(r\"BBCNewsAsia\", \"BBC News Asia\", tweet)\n",
        "    tweet = re.sub(r\"BehindTheScenes\", \"Behind The Scenes\", tweet)\n",
        "    tweet = re.sub(r\"GeorgeTakei\", \"George Takei\", tweet)\n",
        "    tweet = re.sub(r\"WomensWeeklyMag\", \"Womens Weekly Magazine\", tweet)\n",
        "    tweet = re.sub(r\"SurvivorsGuidetoEarth\", \"Survivors Guide to Earth\", tweet)\n",
        "    tweet = re.sub(r\"incubusband\", \"incubus band\", tweet)\n",
        "    tweet = re.sub(r\"Babypicturethis\", \"Baby picture this\", tweet)\n",
        "    tweet = re.sub(r\"BombEffects\", \"Bomb Effects\", tweet)\n",
        "    tweet = re.sub(r\"win10\", \"Windows 10\", tweet)\n",
        "    tweet = re.sub(r\"idkidk\", \"I do not know I do not know\", tweet)\n",
        "    tweet = re.sub(r\"TheWalkingDead\", \"The Walking Dead\", tweet)\n",
        "    tweet = re.sub(r\"amyschumer\", \"Amy Schumer\", tweet)\n",
        "    tweet = re.sub(r\"crewlist\", \"crew list\", tweet)\n",
        "    tweet = re.sub(r\"Erdogans\", \"Erdogan\", tweet)\n",
        "    tweet = re.sub(r\"BBCLive\", \"BBC Live\", tweet)\n",
        "    tweet = re.sub(r\"TonyAbbottMHR\", \"Tony Abbott\", tweet)\n",
        "    tweet = re.sub(r\"paulmyerscough\", \"Paul Myerscough\", tweet)\n",
        "    tweet = re.sub(r\"georgegallagher\", \"George Gallagher\", tweet)\n",
        "    tweet = re.sub(r\"JimmieJohnson\", \"Jimmie Johnson\", tweet)\n",
        "    tweet = re.sub(r\"pctool\", \"pc tool\", tweet)\n",
        "    tweet = re.sub(r\"DoingHashtagsRight\", \"Doing Hashtags Right\", tweet)\n",
        "    tweet = re.sub(r\"ThrowbackThursday\", \"Throwback Thursday\", tweet)\n",
        "    tweet = re.sub(r\"SnowBackSunday\", \"Snowback Sunday\", tweet)\n",
        "    tweet = re.sub(r\"LakeEffect\", \"Lake Effect\", tweet)\n",
        "    tweet = re.sub(r\"RTphotographyUK\", \"Richard Thomas Photography UK\", tweet)\n",
        "    tweet = re.sub(r\"BigBang_CBS\", \"Big Bang CBS\", tweet)\n",
        "    tweet = re.sub(r\"writerslife\", \"writers life\", tweet)\n",
        "    tweet = re.sub(r\"NaturalBirth\", \"Natural Birth\", tweet)\n",
        "    tweet = re.sub(r\"UnusualWords\", \"Unusual Words\", tweet)\n",
        "    tweet = re.sub(r\"wizkhalifa\", \"Wiz Khalifa\", tweet)\n",
        "    tweet = re.sub(r\"acreativedc\", \"a creative DC\", tweet)\n",
        "    tweet = re.sub(r\"vscodc\", \"vsco DC\", tweet)\n",
        "    tweet = re.sub(r\"VSCOcam\", \"vsco camera\", tweet)\n",
        "    tweet = re.sub(r\"TheBEACHDC\", \"The beach DC\", tweet)\n",
        "    tweet = re.sub(r\"buildingmuseum\", \"building museum\", tweet)\n",
        "    tweet = re.sub(r\"WorldOil\", \"World Oil\", tweet)\n",
        "    tweet = re.sub(r\"redwedding\", \"red wedding\", tweet)\n",
        "    tweet = re.sub(r\"AmazingRaceCanada\", \"Amazing Race Canada\", tweet)\n",
        "    tweet = re.sub(r\"WakeUpAmerica\", \"Wake Up America\", tweet)\n",
        "    tweet = re.sub(r\"\\\\Allahuakbar\\\\\", \"Allahu Akbar\", tweet)\n",
        "    tweet = re.sub(r\"bleased\", \"blessed\", tweet)\n",
        "    tweet = re.sub(r\"nigeriantribune\", \"Nigerian Tribune\", tweet)\n",
        "    tweet = re.sub(r\"HIDEO_KOJIMA_EN\", \"Hideo Kojima\", tweet)\n",
        "    tweet = re.sub(r\"FusionFestival\", \"Fusion Festival\", tweet)\n",
        "    tweet = re.sub(r\"50Mixed\", \"50 Mixed\", tweet)\n",
        "    tweet = re.sub(r\"NoAgenda\", \"No Agenda\", tweet)\n",
        "    tweet = re.sub(r\"WhiteGenocide\", \"White Genocide\", tweet)\n",
        "    tweet = re.sub(r\"dirtylying\", \"dirty lying\", tweet)\n",
        "    tweet = re.sub(r\"SyrianRefugees\", \"Syrian Refugees\", tweet)\n",
        "    tweet = re.sub(r\"changetheworld\", \"change the world\", tweet)\n",
        "    tweet = re.sub(r\"Ebolacase\", \"Ebola case\", tweet)\n",
        "    tweet = re.sub(r\"mcgtech\", \"mcg technologies\", tweet)\n",
        "    tweet = re.sub(r\"withweapons\", \"with weapons\", tweet)\n",
        "    tweet = re.sub(r\"advancedwarfare\", \"advanced warfare\", tweet)\n",
        "    tweet = re.sub(r\"letsFootball\", \"let us Football\", tweet)\n",
        "    tweet = re.sub(r\"LateNiteMix\", \"late night mix\", tweet)\n",
        "    tweet = re.sub(r\"PhilCollinsFeed\", \"Phil Collins\", tweet)\n",
        "    tweet = re.sub(r\"RudyHavenstein\", \"Rudy Havenstein\", tweet)\n",
        "    tweet = re.sub(r\"22PM\", \"22 PM\", tweet)\n",
        "    tweet = re.sub(r\"54am\", \"54 AM\", tweet)\n",
        "    tweet = re.sub(r\"38am\", \"38 AM\", tweet)\n",
        "    tweet = re.sub(r\"OldFolkExplainStuff\", \"Old Folk Explain Stuff\", tweet)\n",
        "    tweet = re.sub(r\"BlacklivesMatter\", \"Black Lives Matter\", tweet)\n",
        "    tweet = re.sub(r\"InsaneLimits\", \"Insane Limits\", tweet)\n",
        "    tweet = re.sub(r\"youcantsitwithus\", \"you cannot sit with us\", tweet)\n",
        "    tweet = re.sub(r\"2k15\", \"2015\", tweet)\n",
        "    tweet = re.sub(r\"TheIran\", \"Iran\", tweet)\n",
        "    tweet = re.sub(r\"JimmyFallon\", \"Jimmy Fallon\", tweet)\n",
        "    tweet = re.sub(r\"AlbertBrooks\", \"Albert Brooks\", tweet)\n",
        "    tweet = re.sub(r\"defense_news\", \"defense news\", tweet)\n",
        "    tweet = re.sub(r\"nuclearrcSA\", \"Nuclear Risk Control Self Assessment\", tweet)\n",
        "    tweet = re.sub(r\"Auspol\", \"Australia Politics\", tweet)\n",
        "    tweet = re.sub(r\"NuclearPower\", \"Nuclear Power\", tweet)\n",
        "    tweet = re.sub(r\"WhiteTerrorism\", \"White Terrorism\", tweet)\n",
        "    tweet = re.sub(r\"truthfrequencyradio\", \"Truth Frequency Radio\", tweet)\n",
        "    tweet = re.sub(r\"ErasureIsNotEquality\", \"Erasure is not equality\", tweet)\n",
        "    tweet = re.sub(r\"ProBonoNews\", \"Pro Bono News\", tweet)\n",
        "    tweet = re.sub(r\"JakartaPost\", \"Jakarta Post\", tweet)\n",
        "    tweet = re.sub(r\"toopainful\", \"too painful\", tweet)\n",
        "    tweet = re.sub(r\"melindahaunton\", \"Melinda Haunton\", tweet)\n",
        "    tweet = re.sub(r\"NoNukes\", \"No Nukes\", tweet)\n",
        "    tweet = re.sub(r\"curryspcworld\", \"Currys PC World\", tweet)\n",
        "    tweet = re.sub(r\"ineedcake\", \"I need cake\", tweet)\n",
        "    tweet = re.sub(r\"blackforestgateau\", \"black forest gateau\", tweet)\n",
        "    tweet = re.sub(r\"BBCOne\", \"BBC One\", tweet)\n",
        "    tweet = re.sub(r\"AlexxPage\", \"Alex Page\", tweet)\n",
        "    tweet = re.sub(r\"jonathanserrie\", \"Jonathan Serrie\", tweet)\n",
        "    tweet = re.sub(r\"SocialJerkBlog\", \"Social Jerk Blog\", tweet)\n",
        "    tweet = re.sub(r\"ChelseaVPeretti\", \"Chelsea Peretti\", tweet)\n",
        "    tweet = re.sub(r\"irongiant\", \"iron giant\", tweet)\n",
        "    tweet = re.sub(r\"RonFunches\", \"Ron Funches\", tweet)\n",
        "    tweet = re.sub(r\"TimCook\", \"Tim Cook\", tweet)\n",
        "    tweet = re.sub(r\"sebastianstanisaliveandwell\", \"Sebastian Stan is alive and well\", tweet)\n",
        "    tweet = re.sub(r\"Madsummer\", \"Mad summer\", tweet)\n",
        "    tweet = re.sub(r\"NowYouKnow\", \"Now you know\", tweet)\n",
        "    tweet = re.sub(r\"concertphotography\", \"concert photography\", tweet)\n",
        "    tweet = re.sub(r\"TomLandry\", \"Tom Landry\", tweet)\n",
        "    tweet = re.sub(r\"showgirldayoff\", \"show girl day off\", tweet)\n",
        "    tweet = re.sub(r\"Yougslavia\", \"Yugoslavia\", tweet)\n",
        "    tweet = re.sub(r\"QuantumDataInformatics\", \"Quantum Data Informatics\", tweet)\n",
        "    tweet = re.sub(r\"FromTheDesk\", \"From The Desk\", tweet)\n",
        "    tweet = re.sub(r\"TheaterTrial\", \"Theater Trial\", tweet)\n",
        "    tweet = re.sub(r\"CatoInstitute\", \"Cato Institute\", tweet)\n",
        "    tweet = re.sub(r\"EmekaGift\", \"Emeka Gift\", tweet)\n",
        "    tweet = re.sub(r\"LetsBe_Rational\", \"Let us be rational\", tweet)\n",
        "    tweet = re.sub(r\"Cynicalreality\", \"Cynical reality\", tweet)\n",
        "    tweet = re.sub(r\"FredOlsenCruise\", \"Fred Olsen Cruise\", tweet)\n",
        "    tweet = re.sub(r\"NotSorry\", \"not sorry\", tweet)\n",
        "    tweet = re.sub(r\"UseYourWords\", \"use your words\", tweet)\n",
        "    tweet = re.sub(r\"WordoftheDay\", \"word of the day\", tweet)\n",
        "    tweet = re.sub(r\"Dictionarycom\", \"Dictionary.com\", tweet)\n",
        "    tweet = re.sub(r\"TheBrooklynLife\", \"The Brooklyn Life\", tweet)\n",
        "    tweet = re.sub(r\"jokethey\", \"joke they\", tweet)\n",
        "    tweet = re.sub(r\"nflweek1picks\", \"NFL week 1 picks\", tweet)\n",
        "    tweet = re.sub(r\"uiseful\", \"useful\", tweet)\n",
        "    tweet = re.sub(r\"JusticeDotOrg\", \"The American Association for Justice\", tweet)\n",
        "    tweet = re.sub(r\"autoaccidents\", \"auto accidents\", tweet)\n",
        "    tweet = re.sub(r\"SteveGursten\", \"Steve Gursten\", tweet)\n",
        "    tweet = re.sub(r\"MichiganAutoLaw\", \"Michigan Auto Law\", tweet)\n",
        "    tweet = re.sub(r\"birdgang\", \"bird gang\", tweet)\n",
        "    tweet = re.sub(r\"nflnetwork\", \"NFL Network\", tweet)\n",
        "    tweet = re.sub(r\"NYDNSports\", \"NY Daily News Sports\", tweet)\n",
        "    tweet = re.sub(r\"RVacchianoNYDN\", \"Ralph Vacchiano NY Daily News\", tweet)\n",
        "    tweet = re.sub(r\"EdmontonEsks\", \"Edmonton Eskimos\", tweet)\n",
        "    tweet = re.sub(r\"david_brelsford\", \"David Brelsford\", tweet)\n",
        "    tweet = re.sub(r\"TOI_India\", \"The Times of India\", tweet)\n",
        "    tweet = re.sub(r\"hegot\", \"he got\", tweet)\n",
        "    tweet = re.sub(r\"SkinsOn9\", \"Skins on 9\", tweet)\n",
        "    tweet = re.sub(r\"sothathappened\", \"so that happened\", tweet)\n",
        "    tweet = re.sub(r\"LCOutOfDoors\", \"LC Out Of Doors\", tweet)\n",
        "    tweet = re.sub(r\"NationFirst\", \"Nation First\", tweet)\n",
        "    tweet = re.sub(r\"IndiaToday\", \"India Today\", tweet)\n",
        "    tweet = re.sub(r\"HLPS\", \"helps\", tweet)\n",
        "    tweet = re.sub(r\"HOSTAGESTHROSW\", \"hostages throw\", tweet)\n",
        "    tweet = re.sub(r\"SNCTIONS\", \"sanctions\", tweet)\n",
        "    tweet = re.sub(r\"BidTime\", \"Bid Time\", tweet)\n",
        "    tweet = re.sub(r\"crunchysensible\", \"crunchy sensible\", tweet)\n",
        "    tweet = re.sub(r\"RandomActsOfRomance\", \"Random acts of romance\", tweet)\n",
        "    tweet = re.sub(r\"MomentsAtHill\", \"Moments at hill\", tweet)\n",
        "    tweet = re.sub(r\"eatshit\", \"eat shit\", tweet)\n",
        "    tweet = re.sub(r\"liveleakfun\", \"live leak fun\", tweet)\n",
        "    tweet = re.sub(r\"SahelNews\", \"Sahel News\", tweet)\n",
        "    tweet = re.sub(r\"abc7newsbayarea\", \"ABC 7 News Bay Area\", tweet)\n",
        "    tweet = re.sub(r\"facilitiesmanagement\", \"facilities management\", tweet)\n",
        "    tweet = re.sub(r\"facilitydude\", \"facility dude\", tweet)\n",
        "    tweet = re.sub(r\"CampLogistics\", \"Camp logistics\", tweet)\n",
        "    tweet = re.sub(r\"alaskapublic\", \"Alaska public\", tweet)\n",
        "    tweet = re.sub(r\"MarketResearch\", \"Market Research\", tweet)\n",
        "    tweet = re.sub(r\"AccuracyEsports\", \"Accuracy Esports\", tweet)\n",
        "    tweet = re.sub(r\"TheBodyShopAust\", \"The Body Shop Australia\", tweet)\n",
        "    tweet = re.sub(r\"yychail\", \"Calgary hail\", tweet)\n",
        "    tweet = re.sub(r\"yyctraffic\", \"Calgary traffic\", tweet)\n",
        "    tweet = re.sub(r\"eliotschool\", \"eliot school\", tweet)\n",
        "    tweet = re.sub(r\"TheBrokenCity\", \"The Broken City\", tweet)\n",
        "    tweet = re.sub(r\"OldsFireDept\", \"Olds Fire Department\", tweet)\n",
        "    tweet = re.sub(r\"RiverComplex\", \"River Complex\", tweet)\n",
        "    tweet = re.sub(r\"fieldworksmells\", \"field work smells\", tweet)\n",
        "    tweet = re.sub(r\"IranElection\", \"Iran Election\", tweet)\n",
        "    tweet = re.sub(r\"glowng\", \"glowing\", tweet)\n",
        "    tweet = re.sub(r\"kindlng\", \"kindling\", tweet)\n",
        "    tweet = re.sub(r\"riggd\", \"rigged\", tweet)\n",
        "    tweet = re.sub(r\"slownewsday\", \"slow news day\", tweet)\n",
        "    tweet = re.sub(r\"MyanmarFlood\", \"Myanmar Flood\", tweet)\n",
        "    tweet = re.sub(r\"abc7chicago\", \"ABC 7 Chicago\", tweet)\n",
        "    tweet = re.sub(r\"copolitics\", \"Colorado Politics\", tweet)\n",
        "    tweet = re.sub(r\"AdilGhumro\", \"Adil Ghumro\", tweet)\n",
        "    tweet = re.sub(r\"netbots\", \"net bots\", tweet)\n",
        "    tweet = re.sub(r\"byebyeroad\", \"bye bye road\", tweet)\n",
        "    tweet = re.sub(r\"massiveflooding\", \"massive flooding\", tweet)\n",
        "    tweet = re.sub(r\"EndofUS\", \"End of United States\", tweet)\n",
        "    tweet = re.sub(r\"35PM\", \"35 PM\", tweet)\n",
        "    tweet = re.sub(r\"greektheatrela\", \"Greek Theatre Los Angeles\", tweet)\n",
        "    tweet = re.sub(r\"76mins\", \"76 minutes\", tweet)\n",
        "    tweet = re.sub(r\"publicsafetyfirst\", \"public safety first\", tweet)\n",
        "    tweet = re.sub(r\"livesmatter\", \"lives matter\", tweet)\n",
        "    tweet = re.sub(r\"myhometown\", \"my hometown\", tweet)\n",
        "    tweet = re.sub(r\"tankerfire\", \"tanker fire\", tweet)\n",
        "    tweet = re.sub(r\"MEMORIALDAY\", \"memorial day\", tweet)\n",
        "    tweet = re.sub(r\"MEMORIAL_DAY\", \"memorial day\", tweet)\n",
        "    tweet = re.sub(r\"instaxbooty\", \"instagram booty\", tweet)\n",
        "    tweet = re.sub(r\"Jerusalem_Post\", \"Jerusalem Post\", tweet)\n",
        "    tweet = re.sub(r\"WayneRooney_INA\", \"Wayne Rooney\", tweet)\n",
        "    tweet = re.sub(r\"VirtualReality\", \"Virtual Reality\", tweet)\n",
        "    tweet = re.sub(r\"OculusRift\", \"Oculus Rift\", tweet)\n",
        "    tweet = re.sub(r\"OwenJones84\", \"Owen Jones\", tweet)\n",
        "    tweet = re.sub(r\"jeremycorbyn\", \"Jeremy Corbyn\", tweet)\n",
        "    tweet = re.sub(r\"paulrogers002\", \"Paul Rogers\", tweet)\n",
        "    tweet = re.sub(r\"mortalkombatx\", \"Mortal Kombat X\", tweet)\n",
        "    tweet = re.sub(r\"mortalkombat\", \"Mortal Kombat\", tweet)\n",
        "    tweet = re.sub(r\"FilipeCoelho92\", \"Filipe Coelho\", tweet)\n",
        "    tweet = re.sub(r\"OnlyQuakeNews\", \"Only Quake News\", tweet)\n",
        "    tweet = re.sub(r\"kostumes\", \"costumes\", tweet)\n",
        "    tweet = re.sub(r\"YEEESSSS\", \"yes\", tweet)\n",
        "    tweet = re.sub(r\"ToshikazuKatayama\", \"Toshikazu Katayama\", tweet)\n",
        "    tweet = re.sub(r\"IntlDevelopment\", \"Intl Development\", tweet)\n",
        "    tweet = re.sub(r\"ExtremeWeather\", \"Extreme Weather\", tweet)\n",
        "    tweet = re.sub(r\"WereNotGruberVoters\", \"We are not gruber voters\", tweet)\n",
        "    tweet = re.sub(r\"NewsThousands\", \"News Thousands\", tweet)\n",
        "    tweet = re.sub(r\"EdmundAdamus\", \"Edmund Adamus\", tweet)\n",
        "    tweet = re.sub(r\"EyewitnessWV\", \"Eye witness WV\", tweet)\n",
        "    tweet = re.sub(r\"PhiladelphiaMuseu\", \"Philadelphia Museum\", tweet)\n",
        "    tweet = re.sub(r\"DublinComicCon\", \"Dublin Comic Con\", tweet)\n",
        "    tweet = re.sub(r\"NicholasBrendon\", \"Nicholas Brendon\", tweet)\n",
        "    tweet = re.sub(r\"Alltheway80s\", \"All the way 80s\", tweet)\n",
        "    tweet = re.sub(r\"FromTheField\", \"From the field\", tweet)\n",
        "    tweet = re.sub(r\"NorthIowa\", \"North Iowa\", tweet)\n",
        "    tweet = re.sub(r\"WillowFire\", \"Willow Fire\", tweet)\n",
        "    tweet = re.sub(r\"MadRiverComplex\", \"Mad River Complex\", tweet)\n",
        "    tweet = re.sub(r\"feelingmanly\", \"feeling manly\", tweet)\n",
        "    tweet = re.sub(r\"stillnotoverit\", \"still not over it\", tweet)\n",
        "    tweet = re.sub(r\"FortitudeValley\", \"Fortitude Valley\", tweet)\n",
        "    tweet = re.sub(r\"CoastpowerlineTramTr\", \"Coast powerline\", tweet)\n",
        "    tweet = re.sub(r\"ServicesGold\", \"Services Gold\", tweet)\n",
        "    tweet = re.sub(r\"NewsbrokenEmergency\", \"News broken emergency\", tweet)\n",
        "    tweet = re.sub(r\"Evaucation\", \"evacuation\", tweet)\n",
        "    tweet = re.sub(r\"leaveevacuateexitbe\", \"leave evacuate exit be\", tweet)\n",
        "    tweet = re.sub(r\"P_EOPLE\", \"PEOPLE\", tweet)\n",
        "    tweet = re.sub(r\"Tubestrike\", \"tube strike\", tweet)\n",
        "    tweet = re.sub(r\"CLASS_SICK\", \"CLASS SICK\", tweet)\n",
        "    tweet = re.sub(r\"localplumber\", \"local plumber\", tweet)\n",
        "    tweet = re.sub(r\"awesomejobsiri\", \"awesome job siri\", tweet)\n",
        "    tweet = re.sub(r\"PayForItHow\", \"Pay for it how\", tweet)\n",
        "    tweet = re.sub(r\"ThisIsAfrica\", \"This is Africa\", tweet)\n",
        "    tweet = re.sub(r\"crimeairnetwork\", \"crime air network\", tweet)\n",
        "    tweet = re.sub(r\"KimAcheson\", \"Kim Acheson\", tweet)\n",
        "    tweet = re.sub(r\"cityofcalgary\", \"City of Calgary\", tweet)\n",
        "    tweet = re.sub(r\"prosyndicate\", \"pro syndicate\", tweet)\n",
        "    tweet = re.sub(r\"660NEWS\", \"660 NEWS\", tweet)\n",
        "    tweet = re.sub(r\"BusInsMagazine\", \"Business Insurance Magazine\", tweet)\n",
        "    tweet = re.sub(r\"wfocus\", \"focus\", tweet)\n",
        "    tweet = re.sub(r\"ShastaDam\", \"Shasta Dam\", tweet)\n",
        "    tweet = re.sub(r\"go2MarkFranco\", \"Mark Franco\", tweet)\n",
        "    tweet = re.sub(r\"StephGHinojosa\", \"Steph Hinojosa\", tweet)\n",
        "    tweet = re.sub(r\"Nashgrier\", \"Nash Grier\", tweet)\n",
        "    tweet = re.sub(r\"NashNewVideo\", \"Nash new video\", tweet)\n",
        "    tweet = re.sub(r\"IWouldntGetElectedBecause\", \"I would not get elected because\", tweet)\n",
        "    tweet = re.sub(r\"SHGames\", \"Sledgehammer Games\", tweet)\n",
        "    tweet = re.sub(r\"bedhair\", \"bed hair\", tweet)\n",
        "    tweet = re.sub(r\"JoelHeyman\", \"Joel Heyman\", tweet)\n",
        "    tweet = re.sub(r\"viaYouTube\", \"via YouTube\", tweet)\n",
        "    \n",
        "    # Urls\n",
        "    tweet = re.sub(r\"https?:\\/\\/t.co\\/[A-Za-z0-9]+\", \"\", tweet)\n",
        "    \n",
        "    # Words with punctuations and special characters\n",
        "    punctuations = '@#!?+&*[]-%.:/();$=><|{}^' + \"'`\"\n",
        "    for p in punctuations:\n",
        "        tweet = tweet.replace(p, f' {p} ')\n",
        "        \n",
        "    # ... and ..\n",
        "    tweet = tweet.replace('...', ' ... ')\n",
        "    if '...' not in tweet:\n",
        "        tweet = tweet.replace('..', ' ... ')      \n",
        "        \n",
        "    # Acronyms\n",
        "    tweet = re.sub(r\"MH370\", \"Malaysia Airlines Flight 370\", tweet)\n",
        "    tweet = re.sub(r\"mÌ¼sica\", \"music\", tweet)\n",
        "    tweet = re.sub(r\"okwx\", \"Oklahoma City Weather\", tweet)\n",
        "    tweet = re.sub(r\"arwx\", \"Arkansas Weather\", tweet)    \n",
        "    tweet = re.sub(r\"gawx\", \"Georgia Weather\", tweet)  \n",
        "    tweet = re.sub(r\"scwx\", \"South Carolina Weather\", tweet)  \n",
        "    tweet = re.sub(r\"cawx\", \"California Weather\", tweet)\n",
        "    tweet = re.sub(r\"tnwx\", \"Tennessee Weather\", tweet)\n",
        "    tweet = re.sub(r\"azwx\", \"Arizona Weather\", tweet)  \n",
        "    tweet = re.sub(r\"alwx\", \"Alabama Weather\", tweet)\n",
        "    tweet = re.sub(r\"wordpressdotcom\", \"wordpress\", tweet)    \n",
        "    tweet = re.sub(r\"usNWSgov\", \"United States National Weather Service\", tweet)\n",
        "    tweet = re.sub(r\"Suruc\", \"Sanliurfa\", tweet)   \n",
        "    \n",
        "    # Grouping same words without embeddings\n",
        "    tweet = re.sub(r\"Bestnaijamade\", \"bestnaijamade\", tweet)\n",
        "    tweet = re.sub(r\"SOUDELOR\", \"Soudelor\", tweet)\n",
        "    \n",
        "    return tweet\n",
        "df.text = df.text.apply(lambda x: clean_text(x))"
      ],
      "id": "5e64f5eb",
      "execution_count": null,
      "outputs": []
    },
    {
      "cell_type": "markdown",
      "metadata": {
        "papermill": {
          "duration": 0.054736,
          "end_time": "2021-10-24T23:43:27.963817",
          "exception": false,
          "start_time": "2021-10-24T23:43:27.909081",
          "status": "completed"
        },
        "tags": [],
        "id": "49c03c87"
      },
      "source": [
        "# Remove Stopwords"
      ],
      "id": "49c03c87"
    },
    {
      "cell_type": "code",
      "metadata": {
        "colab": {
          "base_uri": "https://localhost:8080/"
        },
        "id": "deiLVor8Y7fQ",
        "outputId": "7d9e6398-4c62-4851-a95d-203b799ee630"
      },
      "source": [
        "import nltk\n",
        "nltk.download('stopwords')  "
      ],
      "id": "deiLVor8Y7fQ",
      "execution_count": null,
      "outputs": [
        {
          "output_type": "stream",
          "name": "stdout",
          "text": [
            "[nltk_data] Downloading package stopwords to /root/nltk_data...\n",
            "[nltk_data]   Unzipping corpora/stopwords.zip.\n"
          ]
        },
        {
          "output_type": "execute_result",
          "data": {
            "text/plain": [
              "True"
            ]
          },
          "metadata": {},
          "execution_count": 17
        }
      ]
    },
    {
      "cell_type": "code",
      "metadata": {
        "execution": {
          "iopub.execute_input": "2021-10-24T23:43:28.081494Z",
          "iopub.status.busy": "2021-10-24T23:43:28.080862Z",
          "iopub.status.idle": "2021-10-24T23:43:28.390093Z",
          "shell.execute_reply": "2021-10-24T23:43:28.389507Z",
          "shell.execute_reply.started": "2021-10-24T23:17:27.764521Z"
        },
        "papermill": {
          "duration": 0.373478,
          "end_time": "2021-10-24T23:43:28.390241",
          "exception": false,
          "start_time": "2021-10-24T23:43:28.016763",
          "status": "completed"
        },
        "tags": [],
        "id": "072bd41e",
        "colab": {
          "base_uri": "https://localhost:8080/",
          "height": 363
        },
        "outputId": "540f65dc-8e56-4f29-b0a6-38d73288f51c"
      },
      "source": [
        "stop_words = corpus.stopwords.words('english')\n",
        "def remove_stopwords(text):\n",
        "    return ' '.join(w for w in text.split(' ') if w not in stop_words)\n",
        "df.text = df.text.apply(remove_stopwords)\n",
        "df.loc[df['target'] == 0.0].head(10)"
      ],
      "id": "072bd41e",
      "execution_count": null,
      "outputs": [
        {
          "output_type": "execute_result",
          "data": {
            "text/html": [
              "<div>\n",
              "<style scoped>\n",
              "    .dataframe tbody tr th:only-of-type {\n",
              "        vertical-align: middle;\n",
              "    }\n",
              "\n",
              "    .dataframe tbody tr th {\n",
              "        vertical-align: top;\n",
              "    }\n",
              "\n",
              "    .dataframe thead th {\n",
              "        text-align: right;\n",
              "    }\n",
              "</style>\n",
              "<table border=\"1\" class=\"dataframe\">\n",
              "  <thead>\n",
              "    <tr style=\"text-align: right;\">\n",
              "      <th></th>\n",
              "      <th>id</th>\n",
              "      <th>keyword</th>\n",
              "      <th>location</th>\n",
              "      <th>text</th>\n",
              "      <th>target</th>\n",
              "      <th>old_text</th>\n",
              "    </tr>\n",
              "  </thead>\n",
              "  <tbody>\n",
              "    <tr>\n",
              "      <th>15</th>\n",
              "      <td>23</td>\n",
              "      <td>NaN</td>\n",
              "      <td>NaN</td>\n",
              "      <td>man</td>\n",
              "      <td>0.0</td>\n",
              "      <td>What's up man?</td>\n",
              "    </tr>\n",
              "    <tr>\n",
              "      <th>16</th>\n",
              "      <td>24</td>\n",
              "      <td>NaN</td>\n",
              "      <td>NaN</td>\n",
              "      <td>love fruit</td>\n",
              "      <td>0.0</td>\n",
              "      <td>I love fruits</td>\n",
              "    </tr>\n",
              "    <tr>\n",
              "      <th>17</th>\n",
              "      <td>25</td>\n",
              "      <td>NaN</td>\n",
              "      <td>NaN</td>\n",
              "      <td>summer love</td>\n",
              "      <td>0.0</td>\n",
              "      <td>Summer is lovely</td>\n",
              "    </tr>\n",
              "    <tr>\n",
              "      <th>18</th>\n",
              "      <td>26</td>\n",
              "      <td>NaN</td>\n",
              "      <td>NaN</td>\n",
              "      <td>car fast</td>\n",
              "      <td>0.0</td>\n",
              "      <td>My car is so fast</td>\n",
              "    </tr>\n",
              "    <tr>\n",
              "      <th>19</th>\n",
              "      <td>28</td>\n",
              "      <td>NaN</td>\n",
              "      <td>NaN</td>\n",
              "      <td>goooooooaaaaaal</td>\n",
              "      <td>0.0</td>\n",
              "      <td>What a goooooooaaaaaal!!!!!!</td>\n",
              "    </tr>\n",
              "    <tr>\n",
              "      <th>20</th>\n",
              "      <td>31</td>\n",
              "      <td>NaN</td>\n",
              "      <td>NaN</td>\n",
              "      <td>ridicul</td>\n",
              "      <td>0.0</td>\n",
              "      <td>this is ridiculous....</td>\n",
              "    </tr>\n",
              "    <tr>\n",
              "      <th>21</th>\n",
              "      <td>32</td>\n",
              "      <td>NaN</td>\n",
              "      <td>NaN</td>\n",
              "      <td>london cool</td>\n",
              "      <td>0.0</td>\n",
              "      <td>London is cool ;)</td>\n",
              "    </tr>\n",
              "    <tr>\n",
              "      <th>22</th>\n",
              "      <td>33</td>\n",
              "      <td>NaN</td>\n",
              "      <td>NaN</td>\n",
              "      <td>love ski</td>\n",
              "      <td>0.0</td>\n",
              "      <td>Love skiing</td>\n",
              "    </tr>\n",
              "    <tr>\n",
              "      <th>23</th>\n",
              "      <td>34</td>\n",
              "      <td>NaN</td>\n",
              "      <td>NaN</td>\n",
              "      <td>wonder day</td>\n",
              "      <td>0.0</td>\n",
              "      <td>What a wonderful day!</td>\n",
              "    </tr>\n",
              "    <tr>\n",
              "      <th>24</th>\n",
              "      <td>36</td>\n",
              "      <td>NaN</td>\n",
              "      <td>NaN</td>\n",
              "      <td>looooool</td>\n",
              "      <td>0.0</td>\n",
              "      <td>LOOOOOOL</td>\n",
              "    </tr>\n",
              "  </tbody>\n",
              "</table>\n",
              "</div>"
            ],
            "text/plain": [
              "    id keyword location             text  target                      old_text\n",
              "15  23     NaN      NaN              man     0.0                What's up man?\n",
              "16  24     NaN      NaN       love fruit     0.0                 I love fruits\n",
              "17  25     NaN      NaN      summer love     0.0              Summer is lovely\n",
              "18  26     NaN      NaN         car fast     0.0             My car is so fast\n",
              "19  28     NaN      NaN  goooooooaaaaaal     0.0  What a goooooooaaaaaal!!!!!!\n",
              "20  31     NaN      NaN          ridicul     0.0        this is ridiculous....\n",
              "21  32     NaN      NaN     london cool      0.0             London is cool ;)\n",
              "22  33     NaN      NaN         love ski     0.0                   Love skiing\n",
              "23  34     NaN      NaN       wonder day     0.0         What a wonderful day!\n",
              "24  36     NaN      NaN         looooool     0.0                      LOOOOOOL"
            ]
          },
          "metadata": {},
          "execution_count": 18
        }
      ]
    },
    {
      "cell_type": "markdown",
      "metadata": {
        "papermill": {
          "duration": 0.054767,
          "end_time": "2021-10-24T23:43:28.498923",
          "exception": false,
          "start_time": "2021-10-24T23:43:28.444156",
          "status": "completed"
        },
        "tags": [],
        "id": "a15cbf0b"
      },
      "source": [
        "<a id=3.2 ></a>\n",
        "## <p style=\"background-color:skyblue; font-family:newtimeroman; font-size:140%; text-align:left; border-radius: 15px 50px;\">3.2 Stemming</p>\n",
        "\n",
        "\n",
        "[Content](#0)"
      ],
      "id": "a15cbf0b"
    },
    {
      "cell_type": "code",
      "metadata": {
        "execution": {
          "iopub.execute_input": "2021-10-24T23:43:28.643739Z",
          "iopub.status.busy": "2021-10-24T23:43:28.628527Z",
          "iopub.status.idle": "2021-10-24T23:43:30.379867Z",
          "shell.execute_reply": "2021-10-24T23:43:30.379177Z",
          "shell.execute_reply.started": "2021-10-24T23:04:38.637582Z"
        },
        "papermill": {
          "duration": 1.826082,
          "end_time": "2021-10-24T23:43:30.380016",
          "exception": false,
          "start_time": "2021-10-24T23:43:28.553934",
          "status": "completed"
        },
        "tags": [],
        "id": "23d9bf41",
        "colab": {
          "base_uri": "https://localhost:8080/",
          "height": 363
        },
        "outputId": "a3f5bebf-0a55-45d7-f179-09981e06ae40"
      },
      "source": [
        "stemmer = SnowballStemmer(\"english\")\n",
        "\n",
        "def stemming_text(text):\n",
        "    return ' '.join(stemmer.stem(w) for w in text.split(' '))\n",
        "\n",
        "df.text = df.text.apply(stemming_text)\n",
        "df.loc[df['target'] == 0.0].head(10)"
      ],
      "id": "23d9bf41",
      "execution_count": null,
      "outputs": [
        {
          "output_type": "execute_result",
          "data": {
            "text/html": [
              "<div>\n",
              "<style scoped>\n",
              "    .dataframe tbody tr th:only-of-type {\n",
              "        vertical-align: middle;\n",
              "    }\n",
              "\n",
              "    .dataframe tbody tr th {\n",
              "        vertical-align: top;\n",
              "    }\n",
              "\n",
              "    .dataframe thead th {\n",
              "        text-align: right;\n",
              "    }\n",
              "</style>\n",
              "<table border=\"1\" class=\"dataframe\">\n",
              "  <thead>\n",
              "    <tr style=\"text-align: right;\">\n",
              "      <th></th>\n",
              "      <th>id</th>\n",
              "      <th>keyword</th>\n",
              "      <th>location</th>\n",
              "      <th>text</th>\n",
              "      <th>target</th>\n",
              "      <th>old_text</th>\n",
              "    </tr>\n",
              "  </thead>\n",
              "  <tbody>\n",
              "    <tr>\n",
              "      <th>15</th>\n",
              "      <td>23</td>\n",
              "      <td>NaN</td>\n",
              "      <td>NaN</td>\n",
              "      <td>what up man</td>\n",
              "      <td>0.0</td>\n",
              "      <td>What's up man?</td>\n",
              "    </tr>\n",
              "    <tr>\n",
              "      <th>16</th>\n",
              "      <td>24</td>\n",
              "      <td>NaN</td>\n",
              "      <td>NaN</td>\n",
              "      <td>i love fruit</td>\n",
              "      <td>0.0</td>\n",
              "      <td>I love fruits</td>\n",
              "    </tr>\n",
              "    <tr>\n",
              "      <th>17</th>\n",
              "      <td>25</td>\n",
              "      <td>NaN</td>\n",
              "      <td>NaN</td>\n",
              "      <td>summer is love</td>\n",
              "      <td>0.0</td>\n",
              "      <td>Summer is lovely</td>\n",
              "    </tr>\n",
              "    <tr>\n",
              "      <th>18</th>\n",
              "      <td>26</td>\n",
              "      <td>NaN</td>\n",
              "      <td>NaN</td>\n",
              "      <td>my car is so fast</td>\n",
              "      <td>0.0</td>\n",
              "      <td>My car is so fast</td>\n",
              "    </tr>\n",
              "    <tr>\n",
              "      <th>19</th>\n",
              "      <td>28</td>\n",
              "      <td>NaN</td>\n",
              "      <td>NaN</td>\n",
              "      <td>what a goooooooaaaaaal</td>\n",
              "      <td>0.0</td>\n",
              "      <td>What a goooooooaaaaaal!!!!!!</td>\n",
              "    </tr>\n",
              "    <tr>\n",
              "      <th>20</th>\n",
              "      <td>31</td>\n",
              "      <td>NaN</td>\n",
              "      <td>NaN</td>\n",
              "      <td>this is ridicul</td>\n",
              "      <td>0.0</td>\n",
              "      <td>this is ridiculous....</td>\n",
              "    </tr>\n",
              "    <tr>\n",
              "      <th>21</th>\n",
              "      <td>32</td>\n",
              "      <td>NaN</td>\n",
              "      <td>NaN</td>\n",
              "      <td>london is cool</td>\n",
              "      <td>0.0</td>\n",
              "      <td>London is cool ;)</td>\n",
              "    </tr>\n",
              "    <tr>\n",
              "      <th>22</th>\n",
              "      <td>33</td>\n",
              "      <td>NaN</td>\n",
              "      <td>NaN</td>\n",
              "      <td>love ski</td>\n",
              "      <td>0.0</td>\n",
              "      <td>Love skiing</td>\n",
              "    </tr>\n",
              "    <tr>\n",
              "      <th>23</th>\n",
              "      <td>34</td>\n",
              "      <td>NaN</td>\n",
              "      <td>NaN</td>\n",
              "      <td>what a wonder day</td>\n",
              "      <td>0.0</td>\n",
              "      <td>What a wonderful day!</td>\n",
              "    </tr>\n",
              "    <tr>\n",
              "      <th>24</th>\n",
              "      <td>36</td>\n",
              "      <td>NaN</td>\n",
              "      <td>NaN</td>\n",
              "      <td>looooool</td>\n",
              "      <td>0.0</td>\n",
              "      <td>LOOOOOOL</td>\n",
              "    </tr>\n",
              "  </tbody>\n",
              "</table>\n",
              "</div>"
            ],
            "text/plain": [
              "    id keyword  ... target                      old_text\n",
              "15  23     NaN  ...    0.0                What's up man?\n",
              "16  24     NaN  ...    0.0                 I love fruits\n",
              "17  25     NaN  ...    0.0              Summer is lovely\n",
              "18  26     NaN  ...    0.0             My car is so fast\n",
              "19  28     NaN  ...    0.0  What a goooooooaaaaaal!!!!!!\n",
              "20  31     NaN  ...    0.0        this is ridiculous....\n",
              "21  32     NaN  ...    0.0             London is cool ;)\n",
              "22  33     NaN  ...    0.0                   Love skiing\n",
              "23  34     NaN  ...    0.0         What a wonderful day!\n",
              "24  36     NaN  ...    0.0                      LOOOOOOL\n",
              "\n",
              "[10 rows x 6 columns]"
            ]
          },
          "metadata": {},
          "execution_count": 15
        }
      ]
    },
    {
      "cell_type": "code",
      "source": [
        ""
      ],
      "metadata": {
        "id": "2orzrud3P52y"
      },
      "id": "2orzrud3P52y",
      "execution_count": null,
      "outputs": []
    },
    {
      "cell_type": "code",
      "source": [
        "from wordcloud import WordCloud\n",
        "tempDf = df.loc[df['target'] == 1]\n",
        "wc = WordCloud(background_color='black')\n",
        "wc.generate(' '.join(tempDf['text']))\n",
        "plt.imshow(wc, interpolation=\"bilinear\")\n",
        "plt.axis('off')\n",
        "plt.show()"
      ],
      "metadata": {
        "colab": {
          "base_uri": "https://localhost:8080/",
          "height": 198
        },
        "id": "q4dHgw2_Omkb",
        "outputId": "1fded14b-d413-4136-d087-5b4de6892083"
      },
      "id": "q4dHgw2_Omkb",
      "execution_count": null,
      "outputs": [
        {
          "output_type": "display_data",
          "data": {
            "image/png": "[encoded data removed]",
            "text/plain": [
              "<Figure size 432x288 with 1 Axes>"
            ]
          },
          "metadata": {
            "needs_background": "light"
          }
        }
      ]
    },
    {
      "cell_type": "code",
      "source": [
        "tempDf = df.loc[df['target'] == 0.0]\n",
        "wc = WordCloud(background_color='black')\n",
        "wc.generate(' '.join(tempDf['text']))\n",
        "plt.imshow(wc, interpolation=\"bilinear\")\n",
        "plt.axis('off')\n",
        "plt.show()"
      ],
      "metadata": {
        "colab": {
          "base_uri": "https://localhost:8080/",
          "height": 198
        },
        "id": "--9S6LnpQZ6S",
        "outputId": "207cced0-f98b-471e-8976-14bacb87947f"
      },
      "id": "--9S6LnpQZ6S",
      "execution_count": null,
      "outputs": [
        {
          "output_type": "display_data",
          "data": {
            "image/png": "[encoded data removed]",
            "text/plain": [
              "<Figure size 432x288 with 1 Axes>"
            ]
          },
          "metadata": {
            "needs_background": "light"
          }
        }
      ]
    },
    {
      "cell_type": "markdown",
      "metadata": {
        "papermill": {
          "duration": 0.054678,
          "end_time": "2021-10-24T23:43:30.490426",
          "exception": false,
          "start_time": "2021-10-24T23:43:30.435748",
          "status": "completed"
        },
        "tags": [],
        "id": "1a82ff38"
      },
      "source": [
        "<a id=3.3 ></a>\n",
        "   ## <p style=\"background-color:skyblue; font-family:newtimeroman; font-size:140%; text-align:left; border-radius: 20px 50px;\">3.3 Spelling Checker</p>\n",
        "   \n",
        "\n",
        "[Content](#0)"
      ],
      "id": "1a82ff38"
    },
    {
      "cell_type": "code",
      "metadata": {
        "execution": {
          "iopub.execute_input": "2021-10-24T23:43:30.604282Z",
          "iopub.status.busy": "2021-10-24T23:43:30.602882Z",
          "iopub.status.idle": "2021-10-24T23:43:30.606775Z",
          "shell.execute_reply": "2021-10-24T23:43:30.606187Z",
          "shell.execute_reply.started": "2021-10-24T23:04:40.157579Z"
        },
        "papermill": {
          "duration": 0.062816,
          "end_time": "2021-10-24T23:43:30.606928",
          "exception": false,
          "start_time": "2021-10-24T23:43:30.544112",
          "status": "completed"
        },
        "tags": [],
        "id": "e815c98c"
      },
      "source": [
        "# spell = SpellChecker()\n",
        "# def correct_spelling(text):    \n",
        "#     misspelled_words = spell.unknown(text.split())\n",
        "#     corrected_text = [spell.correction(w) if w in misspelled_words else w for w in text.split()] \n",
        "#     return \" \".join(corrected_text)\n",
        "# t1 = timeit.timeit()\n",
        "# # df.text = df.text.apply(correct_spelling)\n",
        "# t2 = timeit.timeit()\n",
        "# print(t2-t1)"
      ],
      "id": "e815c98c",
      "execution_count": null,
      "outputs": []
    },
    {
      "cell_type": "markdown",
      "metadata": {
        "papermill": {
          "duration": 0.053723,
          "end_time": "2021-10-24T23:43:30.716020",
          "exception": false,
          "start_time": "2021-10-24T23:43:30.662297",
          "status": "completed"
        },
        "tags": [],
        "id": "eaf8d1f2"
      },
      "source": [
        "Spend so much time to apply Spelling Checker, I will not use it in this data."
      ],
      "id": "eaf8d1f2"
    },
    {
      "cell_type": "markdown",
      "metadata": {
        "id": "jFsJB1WxbLOK"
      },
      "source": [
        "# Vectorization"
      ],
      "id": "jFsJB1WxbLOK"
    },
    {
      "cell_type": "code",
      "metadata": {
        "id": "LwPb2MP-Yj7r",
        "colab": {
          "base_uri": "https://localhost:8080/"
        },
        "outputId": "21423863-7797-4f6c-fb94-606187915a98"
      },
      "source": [
        "Train_df = df.iloc[:7613]\n",
        "Test_df = df.iloc[7614:] # kaggle wala\n",
        "Train_df.shape"
      ],
      "id": "LwPb2MP-Yj7r",
      "execution_count": null,
      "outputs": [
        {
          "output_type": "execute_result",
          "data": {
            "text/plain": [
              "(7613, 6)"
            ]
          },
          "metadata": {},
          "execution_count": 28
        }
      ]
    },
    {
      "cell_type": "code",
      "metadata": {
        "id": "A4QD_d6iZvp3"
      },
      "source": [
        "from sklearn.model_selection import train_test_split\n",
        "train, val = train_test_split(Train_df,stratify=Train_df['target'],test_size=0.2)"
      ],
      "id": "A4QD_d6iZvp3",
      "execution_count": null,
      "outputs": []
    },
    {
      "cell_type": "markdown",
      "metadata": {
        "id": "bPWvOfO7gtA_"
      },
      "source": [
        "**Count Vectorizer**"
      ],
      "id": "bPWvOfO7gtA_"
    },
    {
      "cell_type": "code",
      "metadata": {
        "execution": {
          "iopub.execute_input": "2021-10-24T23:43:31.050129Z",
          "iopub.status.busy": "2021-10-24T23:43:31.049219Z",
          "iopub.status.idle": "2021-10-24T23:43:31.054962Z",
          "shell.execute_reply": "2021-10-24T23:43:31.054321Z",
          "shell.execute_reply.started": "2021-10-24T23:04:40.166393Z"
        },
        "papermill": {
          "duration": 0.06923,
          "end_time": "2021-10-24T23:43:31.055111",
          "exception": false,
          "start_time": "2021-10-24T23:43:30.985881",
          "status": "completed"
        },
        "tags": [],
        "id": "9b22362f",
        "colab": {
          "base_uri": "https://localhost:8080/"
        },
        "outputId": "60ae4929-3d40-4af1-fdad-aef0e09482e3"
      },
      "source": [
        "# Instantiate the Vectorizer\n",
        "vect = CountVectorizer(stop_words='english', ngram_range=(1,2), min_df=0, max_df=0.9, max_features=100)\n",
        "cv_train = vect.fit_transform(train['text'].values)\n",
        "y_train_cv = np.array(train['target'].to_list())\n",
        "cv_test = vect.fit_transform(val['text'].values)\n",
        "y_val_cv = np.array(val['target'].to_list())\n",
        "# train = vect.fit_transform(df)\n",
        "# df_dtm.toarray()[0]\n",
        "cv_train"
      ],
      "id": "9b22362f",
      "execution_count": null,
      "outputs": [
        {
          "output_type": "execute_result",
          "data": {
            "text/plain": [
              "<6090x100 sparse matrix of type '<class 'numpy.int64'>'\n",
              "\twith 9247 stored elements in Compressed Sparse Row format>"
            ]
          },
          "metadata": {},
          "execution_count": 30
        }
      ]
    },
    {
      "cell_type": "markdown",
      "metadata": {
        "id": "kWXSJVVdcZBa"
      },
      "source": [
        "**TFIDF Vectorizer**"
      ],
      "id": "kWXSJVVdcZBa"
    },
    {
      "cell_type": "code",
      "metadata": {
        "execution": {
          "iopub.execute_input": "2021-10-24T23:43:31.291317Z",
          "iopub.status.busy": "2021-10-24T23:43:31.290236Z",
          "iopub.status.idle": "2021-10-24T23:43:31.294347Z",
          "shell.execute_reply": "2021-10-24T23:43:31.295428Z",
          "shell.execute_reply.started": "2021-10-24T23:04:40.180558Z"
        },
        "papermill": {
          "duration": 0.075947,
          "end_time": "2021-10-24T23:43:31.295631",
          "exception": false,
          "start_time": "2021-10-24T23:43:31.219684",
          "status": "completed"
        },
        "tags": [],
        "id": "e0642f51",
        "colab": {
          "base_uri": "https://localhost:8080/"
        },
        "outputId": "980665d5-d021-4339-d367-a64b9d888955"
      },
      "source": [
        "tfidf_vect = TfidfVectorizer(stop_words='english', ngram_range=(1,2), min_df=0, max_df=0.98, max_features=100)\n",
        "train_ifidf= tfidf_vect.fit_transform(train.text).toarray()\n",
        "y_train_idf = np.array(train['target'].to_list())\n",
        "val_ifidf= tfidf_vect.fit_transform(val['text'].values)\n",
        "y_val_idf = np.array(val['target'].to_list())\n",
        "train_ifidf.shape"
      ],
      "id": "e0642f51",
      "execution_count": null,
      "outputs": [
        {
          "output_type": "execute_result",
          "data": {
            "text/plain": [
              "(6090, 100)"
            ]
          },
          "metadata": {},
          "execution_count": 31
        }
      ]
    },
    {
      "cell_type": "code",
      "metadata": {
        "id": "x4aUL88_CIlU"
      },
      "source": [
        ""
      ],
      "id": "x4aUL88_CIlU",
      "execution_count": null,
      "outputs": []
    },
    {
      "cell_type": "markdown",
      "metadata": {
        "id": "kOy37vMucc9I"
      },
      "source": [
        "**GLOVE**"
      ],
      "id": "kOy37vMucc9I"
    },
    {
      "cell_type": "code",
      "metadata": {
        "id": "Qjo4U9LIfjGw",
        "colab": {
          "base_uri": "https://localhost:8080/"
        },
        "outputId": "ac15cd03-fd00-4089-f186-4cbe9e578034"
      },
      "source": [
        "nltk.download('punkt')"
      ],
      "id": "Qjo4U9LIfjGw",
      "execution_count": null,
      "outputs": [
        {
          "output_type": "stream",
          "name": "stdout",
          "text": [
            "[nltk_data] Downloading package punkt to /root/nltk_data...\n",
            "[nltk_data]   Unzipping tokenizers/punkt.zip.\n"
          ]
        },
        {
          "output_type": "execute_result",
          "data": {
            "text/plain": [
              "True"
            ]
          },
          "metadata": {},
          "execution_count": 32
        }
      ]
    },
    {
      "cell_type": "code",
      "metadata": {
        "execution": {
          "iopub.execute_input": "2021-10-24T23:43:31.636873Z",
          "iopub.status.busy": "2021-10-24T23:43:31.636144Z",
          "iopub.status.idle": "2021-10-24T23:43:34.187354Z",
          "shell.execute_reply": "2021-10-24T23:43:34.188125Z",
          "shell.execute_reply.started": "2021-10-24T23:17:42.673946Z"
        },
        "papermill": {
          "duration": 2.612933,
          "end_time": "2021-10-24T23:43:34.188387",
          "exception": false,
          "start_time": "2021-10-24T23:43:31.575454",
          "status": "completed"
        },
        "tags": [],
        "id": "481387a7",
        "colab": {
          "base_uri": "https://localhost:8080/"
        },
        "outputId": "fa1fe369-abae-41c3-d520-bfe613e04aca"
      },
      "source": [
        "# Create Corpus from Text DataFrame\n",
        "corpus=[]\n",
        "for tweet in tqdm(df['text']):\n",
        "    words = [word.lower() for word in word_tokenize(tweet) if (word.isalpha()==1 & (word not in stop_words))]\n",
        "    corpus.append(words)"
      ],
      "id": "481387a7",
      "execution_count": null,
      "outputs": [
        {
          "output_type": "stream",
          "name": "stderr",
          "text": [
            "100%|██████████| 10876/10876 [00:03<00:00, 3554.24it/s]\n"
          ]
        }
      ]
    },
    {
      "cell_type": "code",
      "metadata": {
        "execution": {
          "iopub.execute_input": "2021-10-24T23:43:34.351045Z",
          "iopub.status.busy": "2021-10-24T23:43:34.340852Z",
          "iopub.status.idle": "2021-10-24T23:43:34.443657Z",
          "shell.execute_reply": "2021-10-24T23:43:34.443107Z",
          "shell.execute_reply.started": "2021-10-24T23:17:47.207238Z"
        },
        "papermill": {
          "duration": 0.190806,
          "end_time": "2021-10-24T23:43:34.443802",
          "exception": false,
          "start_time": "2021-10-24T23:43:34.252996",
          "status": "completed"
        },
        "tags": [],
        "id": "f42c571f",
        "colab": {
          "base_uri": "https://localhost:8080/"
        },
        "outputId": "fc3fb955-a790-4adb-bab8-c9d9c845a8ed"
      },
      "source": [
        "tokenizer = Tokenizer()\n",
        "tokenizer.fit_on_texts(corpus)\n",
        "word_index =  tokenizer.word_index\n",
        "vocal_length = len(word_index) + 1\n",
        "vocal_length"
      ],
      "id": "f42c571f",
      "execution_count": null,
      "outputs": [
        {
          "output_type": "execute_result",
          "data": {
            "text/plain": [
              "16492"
            ]
          },
          "metadata": {},
          "execution_count": 34
        }
      ]
    },
    {
      "cell_type": "code",
      "metadata": {
        "execution": {
          "iopub.execute_input": "2021-10-24T23:43:34.593858Z",
          "iopub.status.busy": "2021-10-24T23:43:34.593002Z",
          "iopub.status.idle": "2021-10-24T23:43:53.512987Z",
          "shell.execute_reply": "2021-10-24T23:43:53.512245Z",
          "shell.execute_reply.started": "2021-10-24T23:18:07.210136Z"
        },
        "papermill": {
          "duration": 18.989951,
          "end_time": "2021-10-24T23:43:53.513145",
          "exception": false,
          "start_time": "2021-10-24T23:43:34.523194",
          "status": "completed"
        },
        "tags": [],
        "id": "e04972b6",
        "colab": {
          "base_uri": "https://localhost:8080/",
          "height": 252
        },
        "outputId": "b81e2ba7-cdb2-4874-e895-b747dafb759c"
      },
      "source": [
        "# Create Embedding Dictionary from GloVe Data\n",
        "embedding_dict = {}\n",
        "with open('/kaggle/input/glove-global-vectors-for-word-representation/glove.6B.100d.txt', 'r') as f:\n",
        "    for line in f:\n",
        "        values = line.split()\n",
        "        word = values[0]\n",
        "        vectors = np.asarray(values[1:], 'float32')\n",
        "        embedding_dict[word] = vectors\n",
        "f.close()\n",
        "len(embedding_dict)"
      ],
      "id": "e04972b6",
      "execution_count": null,
      "outputs": [
        {
          "output_type": "error",
          "ename": "FileNotFoundError",
          "evalue": "ignored",
          "traceback": [
            "\u001b[0;31m---------------------------------------------------------------------------\u001b[0m",
            "\u001b[0;31mFileNotFoundError\u001b[0m                         Traceback (most recent call last)",
            "\u001b[0;32m<ipython-input-35-3bd2f4c439db>\u001b[0m in \u001b[0;36m<module>\u001b[0;34m()\u001b[0m\n\u001b[1;32m      1\u001b[0m \u001b[0;31m# Create Embedding Dictionary from GloVe Data\u001b[0m\u001b[0;34m\u001b[0m\u001b[0;34m\u001b[0m\u001b[0;34m\u001b[0m\u001b[0m\n\u001b[1;32m      2\u001b[0m \u001b[0membedding_dict\u001b[0m \u001b[0;34m=\u001b[0m \u001b[0;34m{\u001b[0m\u001b[0;34m}\u001b[0m\u001b[0;34m\u001b[0m\u001b[0;34m\u001b[0m\u001b[0m\n\u001b[0;32m----> 3\u001b[0;31m \u001b[0;32mwith\u001b[0m \u001b[0mopen\u001b[0m\u001b[0;34m(\u001b[0m\u001b[0;34m'/kaggle/input/glove-global-vectors-for-word-representation/glove.6B.100d.txt'\u001b[0m\u001b[0;34m,\u001b[0m \u001b[0;34m'r'\u001b[0m\u001b[0;34m)\u001b[0m \u001b[0;32mas\u001b[0m \u001b[0mf\u001b[0m\u001b[0;34m:\u001b[0m\u001b[0;34m\u001b[0m\u001b[0;34m\u001b[0m\u001b[0m\n\u001b[0m\u001b[1;32m      4\u001b[0m     \u001b[0;32mfor\u001b[0m \u001b[0mline\u001b[0m \u001b[0;32min\u001b[0m \u001b[0mf\u001b[0m\u001b[0;34m:\u001b[0m\u001b[0;34m\u001b[0m\u001b[0;34m\u001b[0m\u001b[0m\n\u001b[1;32m      5\u001b[0m         \u001b[0mvalues\u001b[0m \u001b[0;34m=\u001b[0m \u001b[0mline\u001b[0m\u001b[0;34m.\u001b[0m\u001b[0msplit\u001b[0m\u001b[0;34m(\u001b[0m\u001b[0;34m)\u001b[0m\u001b[0;34m\u001b[0m\u001b[0;34m\u001b[0m\u001b[0m\n",
            "\u001b[0;31mFileNotFoundError\u001b[0m: [Errno 2] No such file or directory: '/kaggle/input/glove-global-vectors-for-word-representation/glove.6B.100d.txt'"
          ]
        }
      ]
    },
    {
      "cell_type": "code",
      "metadata": {
        "execution": {
          "iopub.execute_input": "2021-10-24T23:43:53.650357Z",
          "iopub.status.busy": "2021-10-24T23:43:53.649260Z",
          "iopub.status.idle": "2021-10-24T23:43:53.698479Z",
          "shell.execute_reply": "2021-10-24T23:43:53.699240Z",
          "shell.execute_reply.started": "2021-10-24T23:18:48.893817Z"
        },
        "papermill": {
          "duration": 0.121365,
          "end_time": "2021-10-24T23:43:53.699497",
          "exception": false,
          "start_time": "2021-10-24T23:43:53.578132",
          "status": "completed"
        },
        "tags": [],
        "id": "1677ae79"
      },
      "source": [
        "# Preparing the GloVe word-embeddings matrix\n",
        "EMBEDDING_DIM = 100\n",
        "\n",
        "embedding_matrix = np.zeros((vocal_length, EMBEDDING_DIM))\n",
        "\n",
        "for word, i in tqdm(word_index.items()):\n",
        "    embedding_vector = embedding_dict.get(word)\n",
        "    if embedding_vector is not None:\n",
        "        # word not found will be all-zeros.\n",
        "        embedding_matrix[i] = embedding_vector"
      ],
      "id": "1677ae79",
      "execution_count": null,
      "outputs": []
    },
    {
      "cell_type": "code",
      "metadata": {
        "execution": {
          "iopub.execute_input": "2021-10-24T23:43:53.989319Z",
          "iopub.status.busy": "2021-10-24T23:43:53.979159Z",
          "iopub.status.idle": "2021-10-24T23:43:54.114227Z",
          "shell.execute_reply": "2021-10-24T23:43:54.113662Z",
          "shell.execute_reply.started": "2021-10-24T23:18:56.645163Z"
        },
        "papermill": {
          "duration": 0.218318,
          "end_time": "2021-10-24T23:43:54.114386",
          "exception": false,
          "start_time": "2021-10-24T23:43:53.896068",
          "status": "completed"
        },
        "tags": [],
        "id": "364d7629"
      },
      "source": [
        "MAX_SEQUENCE_LENGTH = 40\n",
        "\n",
        "padded_sentences = pad_sequences(tokenizer.texts_to_sequences(corpus), maxlen=MAX_SEQUENCE_LENGTH, truncating='post', padding=\"post\")\n",
        "\n",
        "train = padded_sentences[:train_len]\n",
        "target = train_full['target'].values\n",
        "test = padded_sentences[train_len:]"
      ],
      "id": "364d7629",
      "execution_count": null,
      "outputs": []
    },
    {
      "cell_type": "markdown",
      "metadata": {
        "id": "2mvqA7XdgJi5"
      },
      "source": [
        "# Machine Learning Models"
      ],
      "id": "2mvqA7XdgJi5"
    },
    {
      "cell_type": "markdown",
      "metadata": {
        "id": "wEfCuX0xg4nO"
      },
      "source": [
        "**Logistic Regression**"
      ],
      "id": "wEfCuX0xg4nO"
    },
    {
      "cell_type": "code",
      "metadata": {
        "id": "s4oFunqfg1r_"
      },
      "source": [
        "from sklearn.linear_model import LogisticRegression\n",
        "from sklearn.model_selection import KFold, StratifiedKFold\n",
        "from sklearn.model_selection import cross_val_score\n",
        "from sklearn import metrics"
      ],
      "id": "s4oFunqfg1r_",
      "execution_count": null,
      "outputs": []
    },
    {
      "cell_type": "code",
      "metadata": {
        "id": "oHFaEy-qg1mE"
      },
      "source": [
        "skf = StratifiedKFold(n_splits=4, random_state=48,shuffle=True)\n",
        "accuracy=[]\n",
        "n=1\n",
        "model_LR = LogisticRegression()"
      ],
      "id": "oHFaEy-qg1mE",
      "execution_count": null,
      "outputs": []
    },
    {
      "cell_type": "code",
      "source": [
        "model_LR.fit(cv_train,train['target'])\n",
        "y_pred = model_LR.predict(cv_test)\n",
        "\n",
        "print(\"\")\n",
        "print(metrics.classification_report(y_val_cv, y_pred, labels = [1, 0], digits=5))\n",
        "print(\"Avg. Precision: {}\".format((0.49892+0.60113)/2))\n"
      ],
      "metadata": {
        "id": "GuJU3NApVh0T",
        "colab": {
          "base_uri": "https://localhost:8080/"
        },
        "outputId": "7819ffa8-93e8-4e67-f61c-eb2630eab144"
      },
      "id": "GuJU3NApVh0T",
      "execution_count": null,
      "outputs": [
        {
          "output_type": "stream",
          "name": "stdout",
          "text": [
            "\n",
            "              precision    recall  f1-score   support\n",
            "\n",
            "           1    0.51572   0.37615   0.43501       654\n",
            "           0    0.60994   0.73418   0.66632       869\n",
            "\n",
            "    accuracy                        0.58043      1523\n",
            "   macro avg    0.56283   0.55516   0.55067      1523\n",
            "weighted avg    0.56948   0.58043   0.56699      1523\n",
            "\n",
            "Avg. Precision: 0.550025\n"
          ]
        }
      ]
    },
    {
      "cell_type": "code",
      "source": [
        "from sklearn.metrics import confusion_matrix\n",
        "from sklearn.metrics import accuracy_score\n",
        "acc_score = accuracy_score(y_val_cv,y_pred)\n",
        "print(acc_score)"
      ],
      "metadata": {
        "colab": {
          "base_uri": "https://localhost:8080/"
        },
        "id": "TTtbKgTxfP1H",
        "outputId": "4dc3747c-f042-4320-e9e7-6936d0c25b48"
      },
      "id": "TTtbKgTxfP1H",
      "execution_count": null,
      "outputs": [
        {
          "output_type": "stream",
          "name": "stdout",
          "text": [
            "0.5804333552199606\n"
          ]
        }
      ]
    },
    {
      "cell_type": "code",
      "metadata": {
        "id": "Z2JlYId3iBTc",
        "colab": {
          "base_uri": "https://localhost:8080/"
        },
        "outputId": "f59e606f-b02b-439b-fc49-a5c3da6d0a60"
      },
      "source": [
        "tfidf_score = cross_val_score(model_LR,cv_train,train['target'],cv=10, scoring='f1')\n",
        "tfidf_acc = cross_val_score(model_LR,cv_train,train['target'],cv=10, scoring='accuracy')\n",
        "print(\"F1 Score: {}\".format(tfidf_score))\n",
        "print(\"Accuracy : {}\".format(tfidf_acc))"
      ],
      "id": "Z2JlYId3iBTc",
      "execution_count": null,
      "outputs": [
        {
          "output_type": "stream",
          "name": "stdout",
          "text": [
            "F1 Score: [0.60267857 0.5462963  0.61085973 0.60986547 0.56682028 0.61187215\n",
            " 0.59688196 0.60352423 0.60579065 0.61915367]\n",
            "Accuracy : [0.70771757 0.67816092 0.71756979 0.71428571 0.69129721 0.72085386\n",
            " 0.70279146 0.7044335  0.70935961 0.71921182]\n"
          ]
        }
      ]
    },
    {
      "cell_type": "code",
      "source": [
        "tfid_mLR = LogisticRegression()\n",
        "tfid_mLR.fit(train_ifidf,train['target'])\n",
        "y_pred = tfid_mLR.predict(val_ifidf)\n",
        "tfidf_score = cross_val_score(tfid_mLR, train_ifidf, train['target'], cv=5, scoring='f1')\n",
        "print(tfidf_score)\n",
        "\n",
        "\n",
        "print(metrics.classification_report(y_val_idf, y_pred, labels = [1, 0], digits=5))"
      ],
      "metadata": {
        "id": "wWINEr-yiyyO",
        "colab": {
          "base_uri": "https://localhost:8080/"
        },
        "outputId": "6da49cac-bc50-4bc2-f99e-f1f79065b184"
      },
      "id": "wWINEr-yiyyO",
      "execution_count": null,
      "outputs": [
        {
          "output_type": "stream",
          "name": "stdout",
          "text": [
            "[0.55314286 0.61915367 0.60869565 0.60132159 0.6173913 ]\n",
            "              precision    recall  f1-score   support\n",
            "\n",
            "           1    0.50318   0.36239   0.42133       654\n",
            "           0    0.60361   0.73072   0.66111       869\n",
            "\n",
            "    accuracy                        0.57255      1523\n",
            "   macro avg    0.55340   0.54656   0.54122      1523\n",
            "weighted avg    0.56049   0.57255   0.55815      1523\n",
            "\n"
          ]
        }
      ]
    },
    {
      "cell_type": "markdown",
      "metadata": {
        "id": "YaqhAcjlG1gR"
      },
      "source": [
        "**Naive Bayes**"
      ],
      "id": "YaqhAcjlG1gR"
    },
    {
      "cell_type": "code",
      "metadata": {
        "id": "aVQviK0-G4FN",
        "colab": {
          "base_uri": "https://localhost:8080/"
        },
        "outputId": "cbda400d-3754-4ce4-fc24-580480d8fb32"
      },
      "source": [
        "from sklearn.naive_bayes import MultinomialNB as mb\n",
        "\n",
        "m = mb()\n",
        "vector_score = cross_val_score(m, train_ifidf, train['target'],\n",
        "                              cv=5, scoring='f1')\n",
        "vector_acc = cross_val_score(m, train_ifidf, train['target'],\n",
        "                              cv=5, scoring='accuracy')\n",
        "\n",
        "print(\"F1 Score: {}\".format(vector_score))\n",
        "print(\"Accuracy : {}\".format(vector_acc))"
      ],
      "id": "aVQviK0-G4FN",
      "execution_count": null,
      "outputs": [
        {
          "output_type": "stream",
          "name": "stdout",
          "text": [
            "F1 Score: [0.54309327 0.61538462 0.59421965 0.59459459 0.60517435]\n",
            "Accuracy : [0.68226601 0.72085386 0.71182266 0.7044335  0.71182266]\n"
          ]
        }
      ]
    },
    {
      "cell_type": "code",
      "metadata": {
        "id": "nth8pUXuHKZz"
      },
      "source": [
        "m.fit(cv_train,train['target'])\n",
        "pred = m.predict(cv_test)"
      ],
      "id": "nth8pUXuHKZz",
      "execution_count": null,
      "outputs": []
    },
    {
      "cell_type": "markdown",
      "source": [
        "Count Vectorizer Naive Bayes Report"
      ],
      "metadata": {
        "id": "df_Wi3iAhUsJ"
      },
      "id": "df_Wi3iAhUsJ"
    },
    {
      "cell_type": "code",
      "metadata": {
        "id": "0cXGUNTtq1t6",
        "colab": {
          "base_uri": "https://localhost:8080/"
        },
        "outputId": "9ccdcf8c-f32f-406f-9604-9712f0ad7a30"
      },
      "source": [
        "m_tfid_mLR = LogisticRegression()\n",
        "m_tfid_mLR\n",
        "print(metrics.classification_report(y_val_cv, pred, labels = [1, 0], digits=5))"
      ],
      "id": "0cXGUNTtq1t6",
      "execution_count": null,
      "outputs": [
        {
          "output_type": "stream",
          "name": "stdout",
          "text": [
            "              precision    recall  f1-score   support\n",
            "\n",
            "           1    0.50225   0.34098   0.40619       654\n",
            "           0    0.60056   0.74568   0.66530       869\n",
            "\n",
            "    accuracy                        0.57190      1523\n",
            "   macro avg    0.55140   0.54333   0.53575      1523\n",
            "weighted avg    0.55834   0.57190   0.55403      1523\n",
            "\n"
          ]
        }
      ]
    },
    {
      "cell_type": "markdown",
      "source": [
        "TFIDF Vectorizer Naive bayes Report"
      ],
      "metadata": {
        "id": "gQHubhv-k0Lv"
      },
      "id": "gQHubhv-k0Lv"
    },
    {
      "cell_type": "code",
      "source": [
        "m_tdfidf_nb = mb()\n",
        "m_tdfidf_nb.fit(train_ifidf,train['target'])\n",
        "tfidf_acc = cross_val_score(m_tdfidf_nb, cv_train, train['target'],\n",
        "                              cv=10, scoring='accuracy')\n",
        "tfidf_score = cross_val_score(m_tdfidf_nb, cv_train, train['target'],\n",
        "                              cv=10, scoring='f1')\n",
        "tfidf_precision = cross_val_score(m_tdfidf_nb, cv_train, train['target'],\n",
        "                              cv=10, scoring='precision')\n",
        "print(\"F1 Score: {}\".format(tfidf_score))\n",
        "print(\"Accuracy: {}\".format(tfidf_acc))\n",
        "print(\"Precision: {}\".format(tfidf_precision))\n",
        "pred = m_tdfidf_nb.predict(val_ifidf)\n",
        "print(metrics.classification_report(y_val_idf, pred, labels = [1, 0], digits=5))"
      ],
      "metadata": {
        "id": "kWdnDbvRk5D8",
        "colab": {
          "base_uri": "https://localhost:8080/"
        },
        "outputId": "dac324e9-6236-4f50-ac87-71373874b426"
      },
      "id": "kWdnDbvRk5D8",
      "execution_count": null,
      "outputs": [
        {
          "output_type": "stream",
          "name": "stdout",
          "text": [
            "F1 Score: [0.56689342 0.51388889 0.61926606 0.62921348 0.58503401 0.63087248\n",
            " 0.60659341 0.5950783  0.60850112 0.59060403]\n",
            "Accuracy: [0.6863711  0.65517241 0.727422   0.72906404 0.69950739 0.72906404\n",
            " 0.70607553 0.70279146 0.71264368 0.69950739]\n",
            "Precision: [0.69832402 0.65294118 0.77586207 0.76502732 0.72067039 0.76216216\n",
            " 0.71502591 0.71505376 0.7311828  0.70967742]\n",
            "              precision    recall  f1-score   support\n",
            "\n",
            "           1    0.50355   0.32569   0.39554       654\n",
            "           0    0.59909   0.75834   0.66938       869\n",
            "\n",
            "    accuracy                        0.57255      1523\n",
            "   macro avg    0.55132   0.54202   0.53246      1523\n",
            "weighted avg    0.55806   0.57255   0.55179      1523\n",
            "\n"
          ]
        }
      ]
    },
    {
      "cell_type": "markdown",
      "metadata": {
        "id": "ekAsyL3uI41K"
      },
      "source": [
        "**Support Vector Machines**<br>\n",
        "Model Accuracy on Count Vectorized data"
      ],
      "id": "ekAsyL3uI41K"
    },
    {
      "cell_type": "code",
      "metadata": {
        "id": "to-n9io4I4P-"
      },
      "source": [
        "from sklearn.datasets import make_blobs\n",
        "from sklearn.model_selection import RepeatedStratifiedKFold\n",
        "from sklearn.model_selection import GridSearchCV\n",
        "from sklearn.svm import SVC"
      ],
      "id": "to-n9io4I4P-",
      "execution_count": null,
      "outputs": []
    },
    {
      "cell_type": "code",
      "metadata": {
        "id": "U1U0-aNdJQgW",
        "colab": {
          "base_uri": "https://localhost:8080/"
        },
        "outputId": "1d0efe28-114a-4553-efe6-90683cc8d13f"
      },
      "source": [
        "# example of grid searching key hyperparametres for SVC\n",
        "from sklearn.datasets import make_blobs\n",
        "from sklearn.model_selection import RepeatedStratifiedKFold\n",
        "from sklearn.model_selection import GridSearchCV\n",
        "from sklearn.svm import SVC\n",
        "# define dataset\n",
        "\n",
        "model = SVC()\n",
        "kernel = ['poly', 'rbf', 'sigmoid']\n",
        "C = [50, 10, 1.0, 0.1, 0.01]\n",
        "gamma = ['scale']\n",
        "# define grid search\n",
        "grid = dict(kernel=kernel,C=C,gamma=gamma)\n",
        "cv = RepeatedStratifiedKFold(n_splits=10, n_repeats=3, random_state=1)\n",
        "grid_search = GridSearchCV(estimator=model, param_grid=grid, n_jobs=-1, cv=cv, scoring='accuracy',error_score=0)\n",
        "grid_result = grid_search.fit(cv_train,train['target'])\n",
        "# summarize results\n",
        "print(\"Best: %f using %s\" % (grid_result.best_score_, grid_result.best_params_))\n",
        "means = grid_result.cv_results_['mean_test_score']\n",
        "stds = grid_result.cv_results_['std_test_score']\n",
        "params = grid_result.cv_results_['params']\n",
        "for mean, stdev, param in zip(means, stds, params):\n",
        "    print(\"%f (%f) with: %r\" % (mean, stdev, param))\n"
      ],
      "id": "U1U0-aNdJQgW",
      "execution_count": null,
      "outputs": [
        {
          "output_type": "stream",
          "name": "stdout",
          "text": [
            "Best: 0.709414 using {'C': 1.0, 'gamma': 'scale', 'kernel': 'rbf'}\n",
            "0.694636 (0.020041) with: {'C': 50, 'gamma': 'scale', 'kernel': 'poly'}\n",
            "0.699288 (0.016577) with: {'C': 50, 'gamma': 'scale', 'kernel': 'rbf'}\n",
            "0.639573 (0.019676) with: {'C': 50, 'gamma': 'scale', 'kernel': 'sigmoid'}\n",
            "0.697154 (0.018778) with: {'C': 10, 'gamma': 'scale', 'kernel': 'poly'}\n",
            "0.701970 (0.017371) with: {'C': 10, 'gamma': 'scale', 'kernel': 'rbf'}\n",
            "0.640777 (0.020172) with: {'C': 10, 'gamma': 'scale', 'kernel': 'sigmoid'}\n",
            "0.700328 (0.013618) with: {'C': 1.0, 'gamma': 'scale', 'kernel': 'poly'}\n",
            "0.709414 (0.016058) with: {'C': 1.0, 'gamma': 'scale', 'kernel': 'rbf'}\n",
            "0.660974 (0.020534) with: {'C': 1.0, 'gamma': 'scale', 'kernel': 'sigmoid'}\n",
            "0.656869 (0.010162) with: {'C': 0.1, 'gamma': 'scale', 'kernel': 'poly'}\n",
            "0.702299 (0.016719) with: {'C': 0.1, 'gamma': 'scale', 'kernel': 'rbf'}\n",
            "0.675260 (0.016920) with: {'C': 0.1, 'gamma': 'scale', 'kernel': 'sigmoid'}\n",
            "0.600109 (0.005871) with: {'C': 0.01, 'gamma': 'scale', 'kernel': 'poly'}\n",
            "0.570279 (0.000752) with: {'C': 0.01, 'gamma': 'scale', 'kernel': 'rbf'}\n",
            "0.576738 (0.002897) with: {'C': 0.01, 'gamma': 'scale', 'kernel': 'sigmoid'}\n"
          ]
        }
      ]
    },
    {
      "cell_type": "markdown",
      "source": [
        "Count Vectorizer Fit, Predict and Report"
      ],
      "metadata": {
        "id": "tYfunHaol1-a"
      },
      "id": "tYfunHaol1-a"
    },
    {
      "cell_type": "code",
      "source": [
        "y_pred = grid_search.predict(cv_test)\n",
        "\n",
        "print(metrics.classification_report(y_val_cv, y_pred, labels = [1, 0], digits=5))"
      ],
      "metadata": {
        "id": "s_MUo4d0Z02v",
        "colab": {
          "base_uri": "https://localhost:8080/"
        },
        "outputId": "6d128378-fe79-4c95-b342-2ef3ab57fad3"
      },
      "id": "s_MUo4d0Z02v",
      "execution_count": null,
      "outputs": [
        {
          "output_type": "stream",
          "name": "stdout",
          "text": [
            "              precision    recall  f1-score   support\n",
            "\n",
            "           1    0.52294   0.34862   0.41835       654\n",
            "           0    0.60810   0.76064   0.67587       869\n",
            "\n",
            "    accuracy                        0.58372      1523\n",
            "   macro avg    0.56552   0.55463   0.54711      1523\n",
            "weighted avg    0.57153   0.58372   0.56529      1523\n",
            "\n"
          ]
        }
      ]
    },
    {
      "cell_type": "markdown",
      "metadata": {
        "id": "bRQZL80ETeDd"
      },
      "source": [
        "Model Accuracy on TFIDF Vectorized training data, Prediction and Report"
      ],
      "id": "bRQZL80ETeDd"
    },
    {
      "cell_type": "code",
      "metadata": {
        "id": "n7sQDqwCJmBD",
        "colab": {
          "base_uri": "https://localhost:8080/"
        },
        "outputId": "dc03171d-d495-4542-bd55-5cad60ba7652"
      },
      "source": [
        "model_tfidf_svm = SVC()\n",
        "grid2 = dict(kernel=kernel,C=C,gamma=gamma)\n",
        "cv = RepeatedStratifiedKFold(n_splits=10, n_repeats=3, random_state=1)\n",
        "grid_search2 = GridSearchCV(estimator=model_tfidf_svm, param_grid=grid2, n_jobs=-1, cv=cv, scoring='accuracy',error_score=0)\n",
        "grid_result_tfidf = grid_search2.fit(train_ifidf,train['target'])\n",
        "\n",
        "# summarize results\n",
        "print(\"Best: %f using %s\" % (grid_result_tfidf.best_score_, grid_result_tfidf.best_params_))\n",
        "means = grid_result_tfidf.cv_results_['mean_test_score']\n",
        "stds = grid_result_tfidf.cv_results_['std_test_score']\n",
        "params = grid_result.cv_results_['params']\n",
        "for mean, stdev, param in zip(means, stds, params):\n",
        "    print(\"%f (%f) with: %r\" % (mean, stdev, param))"
      ],
      "id": "n7sQDqwCJmBD",
      "execution_count": null,
      "outputs": [
        {
          "output_type": "stream",
          "name": "stdout",
          "text": [
            "Best: 0.716366 using {'C': 1.0, 'gamma': 'scale', 'kernel': 'rbf'}\n",
            "0.702573 (0.014819) with: {'C': 50, 'gamma': 'scale', 'kernel': 'poly'}\n",
            "0.707061 (0.015833) with: {'C': 50, 'gamma': 'scale', 'kernel': 'rbf'}\n",
            "0.637219 (0.018132) with: {'C': 50, 'gamma': 'scale', 'kernel': 'sigmoid'}\n",
            "0.702518 (0.014840) with: {'C': 10, 'gamma': 'scale', 'kernel': 'poly'}\n",
            "0.706951 (0.015113) with: {'C': 10, 'gamma': 'scale', 'kernel': 'rbf'}\n",
            "0.640777 (0.016215) with: {'C': 10, 'gamma': 'scale', 'kernel': 'sigmoid'}\n",
            "0.706897 (0.016620) with: {'C': 1.0, 'gamma': 'scale', 'kernel': 'poly'}\n",
            "0.716366 (0.016272) with: {'C': 1.0, 'gamma': 'scale', 'kernel': 'rbf'}\n",
            "0.662178 (0.014533) with: {'C': 1.0, 'gamma': 'scale', 'kernel': 'sigmoid'}\n",
            "0.687466 (0.013091) with: {'C': 0.1, 'gamma': 'scale', 'kernel': 'poly'}\n",
            "0.705255 (0.016298) with: {'C': 0.1, 'gamma': 'scale', 'kernel': 'rbf'}\n",
            "0.692830 (0.019275) with: {'C': 0.1, 'gamma': 'scale', 'kernel': 'sigmoid'}\n",
            "0.570279 (0.000752) with: {'C': 0.01, 'gamma': 'scale', 'kernel': 'poly'}\n",
            "0.570279 (0.000752) with: {'C': 0.01, 'gamma': 'scale', 'kernel': 'rbf'}\n",
            "0.570772 (0.001003) with: {'C': 0.01, 'gamma': 'scale', 'kernel': 'sigmoid'}\n"
          ]
        }
      ]
    },
    {
      "cell_type": "code",
      "source": [
        "y_pred = grid_search.predict(val_ifidf)\n",
        "\n",
        "print(metrics.classification_report(y_val_idf, y_pred, labels = [1, 0], digits=5))"
      ],
      "metadata": {
        "id": "RI6mNUMn3lnm",
        "colab": {
          "base_uri": "https://localhost:8080/"
        },
        "outputId": "6593e1d7-a74f-4791-ec74-593c994bdd21"
      },
      "id": "RI6mNUMn3lnm",
      "execution_count": null,
      "outputs": [
        {
          "output_type": "stream",
          "name": "stdout",
          "text": [
            "              precision    recall  f1-score   support\n",
            "\n",
            "           1    0.51832   0.30275   0.38224       654\n",
            "           0    0.60035   0.78826   0.68159       869\n",
            "\n",
            "    accuracy                        0.57978      1523\n",
            "   macro avg    0.55934   0.54551   0.53192      1523\n",
            "weighted avg    0.56513   0.57978   0.55305      1523\n",
            "\n"
          ]
        }
      ]
    },
    {
      "cell_type": "markdown",
      "metadata": {
        "id": "Rv5UpwJoUDmo"
      },
      "source": [
        "Random Forest on TFIDF Vectorized Data"
      ],
      "id": "Rv5UpwJoUDmo"
    },
    {
      "cell_type": "code",
      "metadata": {
        "id": "RJ0SZi8qPb0m",
        "colab": {
          "base_uri": "https://localhost:8080/"
        },
        "outputId": "1e6934df-a499-4396-87c7-b95e381408b8"
      },
      "source": [
        "# example of grid searching key hyperparameters for RandomForestClassifier\n",
        "from sklearn.datasets import make_blobs\n",
        "from sklearn.model_selection import RepeatedStratifiedKFold\n",
        "from sklearn.model_selection import GridSearchCV\n",
        "from sklearn.ensemble import RandomForestClassifier\n",
        "# define dataset\n",
        "# define models and parameters\n",
        "model = RandomForestClassifier()\n",
        "n_estimators = [10, 100, 1000]\n",
        "max_features = ['sqrt', 'log2']\n",
        "# define grid search\n",
        "grid = dict(n_estimators=n_estimators,max_features=max_features)\n",
        "cv = RepeatedStratifiedKFold(n_splits=10, n_repeats=3, random_state=1)\n",
        "grid_search = GridSearchCV(estimator=model, param_grid=grid, n_jobs=-1, cv=cv, scoring='accuracy',error_score=0)\n",
        "grid_result = grid_search.fit(train_ifidf,train['target'])\n",
        "# summarize results\n",
        "print(\"Best: %f using %s\" % (grid_result.best_score_, grid_result.best_params_))\n",
        "means = grid_result.cv_results_['mean_test_score']\n",
        "stds = grid_result.cv_results_['std_test_score']\n",
        "params = grid_result.cv_results_['params']\n",
        "for mean, stdev, param in zip(means, stds, params):\n",
        "    print(\"%f (%f) with: %r\" % (mean, stdev, param))"
      ],
      "id": "RJ0SZi8qPb0m",
      "execution_count": null,
      "outputs": [
        {
          "output_type": "stream",
          "name": "stdout",
          "text": [
            "Best: 0.705911 using {'max_features': 'log2', 'n_estimators': 100}\n",
            "0.700000 (0.018636) with: {'max_features': 'sqrt', 'n_estimators': 10}\n",
            "0.703448 (0.017825) with: {'max_features': 'sqrt', 'n_estimators': 100}\n",
            "0.705309 (0.016298) with: {'max_features': 'sqrt', 'n_estimators': 1000}\n",
            "0.700000 (0.017711) with: {'max_features': 'log2', 'n_estimators': 10}\n",
            "0.705911 (0.015820) with: {'max_features': 'log2', 'n_estimators': 100}\n",
            "0.705857 (0.016851) with: {'max_features': 'log2', 'n_estimators': 1000}\n"
          ]
        }
      ]
    },
    {
      "cell_type": "code",
      "source": [
        "y_pred_tfidf = grid_search.predict(val_ifidf)\n",
        "\n",
        "print(metrics.classification_report(y_val_idf, y_pred_tfidf, labels = [1, 0], digits=5))"
      ],
      "metadata": {
        "id": "yBFcrlPw6XHk",
        "colab": {
          "base_uri": "https://localhost:8080/"
        },
        "outputId": "76e08295-782c-4079-b8da-d412de76b7ec"
      },
      "id": "yBFcrlPw6XHk",
      "execution_count": null,
      "outputs": [
        {
          "output_type": "stream",
          "name": "stdout",
          "text": [
            "              precision    recall  f1-score   support\n",
            "\n",
            "           1    0.51435   0.35627   0.42096       654\n",
            "           0    0.60654   0.74684   0.66942       869\n",
            "\n",
            "    accuracy                        0.57912      1523\n",
            "   macro avg    0.56045   0.55155   0.54519      1523\n",
            "weighted avg    0.56695   0.57912   0.56272      1523\n",
            "\n"
          ]
        }
      ]
    },
    {
      "cell_type": "markdown",
      "source": [
        "Count Vectoriation\n"
      ],
      "metadata": {
        "id": "qJiw5uKn7LSu"
      },
      "id": "qJiw5uKn7LSu"
    },
    {
      "cell_type": "code",
      "source": [
        "# example of grid searching key hyperparameters for RandomForestClassifier\n",
        "from sklearn.datasets import make_blobs\n",
        "from sklearn.model_selection import RepeatedStratifiedKFold\n",
        "from sklearn.model_selection import GridSearchCV\n",
        "from sklearn.ensemble import RandomForestClassifier\n",
        "# define dataset\n",
        "# define models and parameters\n",
        "model = RandomForestClassifier()\n",
        "n_estimators = [10, 100, 1000]\n",
        "max_features = ['sqrt', 'log2']\n",
        "# define grid search\n",
        "grid = dict(n_estimators=n_estimators,max_features=max_features)\n",
        "cv = RepeatedStratifiedKFold(n_splits=10, n_repeats=3, random_state=1)\n",
        "grid_search = GridSearchCV(estimator=model, param_grid=grid, n_jobs=-1, cv=cv, scoring='accuracy',error_score=0)\n",
        "grid_result = grid_search.fit(cv_train,train['target'])\n",
        "# summarize results\n",
        "print(\"Best: %f using %s\" % (grid_result.best_score_, grid_result.best_params_))\n",
        "means = grid_result.cv_results_['mean_test_score']\n",
        "stds = grid_result.cv_results_['std_test_score']\n",
        "params = grid_result.cv_results_['params']\n",
        "for mean, stdev, param in zip(means, stds, params):\n",
        "    print(\"%f (%f) with: %r\" % (mean, stdev, param))"
      ],
      "metadata": {
        "id": "EXXd4d4d7Okp",
        "colab": {
          "base_uri": "https://localhost:8080/"
        },
        "outputId": "3f0ac8b9-b2a4-4ab2-e92e-129d7623d29d"
      },
      "id": "EXXd4d4d7Okp",
      "execution_count": null,
      "outputs": [
        {
          "output_type": "stream",
          "name": "stdout",
          "text": [
            "Best: 0.705255 using {'max_features': 'log2', 'n_estimators': 1000}\n",
            "0.699234 (0.016022) with: {'max_features': 'sqrt', 'n_estimators': 10}\n",
            "0.702956 (0.017431) with: {'max_features': 'sqrt', 'n_estimators': 100}\n",
            "0.702627 (0.017213) with: {'max_features': 'sqrt', 'n_estimators': 1000}\n",
            "0.700712 (0.016889) with: {'max_features': 'log2', 'n_estimators': 10}\n",
            "0.704269 (0.018089) with: {'max_features': 'log2', 'n_estimators': 100}\n",
            "0.705255 (0.017153) with: {'max_features': 'log2', 'n_estimators': 1000}\n"
          ]
        }
      ]
    },
    {
      "cell_type": "code",
      "source": [
        "y_pred = grid_search.predict(cv_test)\n",
        "\n",
        "print(metrics.classification_report(y_val_cv, y_pred, labels = [1, 0], digits=5))"
      ],
      "metadata": {
        "id": "plD6c6wq7XBd",
        "colab": {
          "base_uri": "https://localhost:8080/"
        },
        "outputId": "ab9e3fe0-700d-48d6-883e-ad20060ae84f"
      },
      "id": "plD6c6wq7XBd",
      "execution_count": null,
      "outputs": [
        {
          "output_type": "stream",
          "name": "stdout",
          "text": [
            "              precision    recall  f1-score   support\n",
            "\n",
            "           1    0.50437   0.35321   0.41547       654\n",
            "           0    0.60282   0.73878   0.66391       869\n",
            "\n",
            "    accuracy                        0.57321      1523\n",
            "   macro avg    0.55359   0.54600   0.53969      1523\n",
            "weighted avg    0.56054   0.57321   0.55722      1523\n",
            "\n"
          ]
        }
      ]
    },
    {
      "cell_type": "code",
      "metadata": {
        "id": "oHX2kLFCUR_H",
        "colab": {
          "base_uri": "https://localhost:8080/",
          "height": 174
        },
        "outputId": "f9eb0e10-30cb-4714-b893-aeb2272820d6"
      },
      "source": [
        "acc1 = 0.54563\n",
        "acc2 = 0.55286\n",
        "acc3 = 0.716639\n",
        "acc4 = 0.714395\n",
        "results = pd.DataFrame([[\"Naive Bayes\",acc2],[\"Logistic Regression\",acc1],[\"SVM\",acc3],[\"Random Forest\",acc4]],columns = [\"Models\",\"Accuracy Score\"]).sort_values(by='Accuracy Score',ascending=False)\n",
        "results.style.background_gradient(cmap='YlOrRd')"
      ],
      "id": "oHX2kLFCUR_H",
      "execution_count": null,
      "outputs": [
        {
          "output_type": "execute_result",
          "data": {
            "text/html": [
              "<style  type=\"text/css\" >\n",
              "#T_722d543a_5d2c_11ec_ace2_0242ac1c0002row0_col1{\n",
              "            background-color:  #800026;\n",
              "            color:  #f1f1f1;\n",
              "        }#T_722d543a_5d2c_11ec_ace2_0242ac1c0002row1_col1{\n",
              "            background-color:  #860026;\n",
              "            color:  #f1f1f1;\n",
              "        }#T_722d543a_5d2c_11ec_ace2_0242ac1c0002row2_col1{\n",
              "            background-color:  #fff9be;\n",
              "            color:  #000000;\n",
              "        }#T_722d543a_5d2c_11ec_ace2_0242ac1c0002row3_col1{\n",
              "            background-color:  #ffffcc;\n",
              "            color:  #000000;\n",
              "        }</style><table id=\"T_722d543a_5d2c_11ec_ace2_0242ac1c0002\" class=\"dataframe\"><thead>    <tr>        <th class=\"blank level0\" ></th>        <th class=\"col_heading level0 col0\" >Models</th>        <th class=\"col_heading level0 col1\" >Accuracy Score</th>    </tr></thead><tbody>\n",
              "                <tr>\n",
              "                        <th id=\"T_722d543a_5d2c_11ec_ace2_0242ac1c0002level0_row0\" class=\"row_heading level0 row0\" >2</th>\n",
              "                        <td id=\"T_722d543a_5d2c_11ec_ace2_0242ac1c0002row0_col0\" class=\"data row0 col0\" >SVM</td>\n",
              "                        <td id=\"T_722d543a_5d2c_11ec_ace2_0242ac1c0002row0_col1\" class=\"data row0 col1\" >0.716639</td>\n",
              "            </tr>\n",
              "            <tr>\n",
              "                        <th id=\"T_722d543a_5d2c_11ec_ace2_0242ac1c0002level0_row1\" class=\"row_heading level0 row1\" >3</th>\n",
              "                        <td id=\"T_722d543a_5d2c_11ec_ace2_0242ac1c0002row1_col0\" class=\"data row1 col0\" >Random Forest</td>\n",
              "                        <td id=\"T_722d543a_5d2c_11ec_ace2_0242ac1c0002row1_col1\" class=\"data row1 col1\" >0.714395</td>\n",
              "            </tr>\n",
              "            <tr>\n",
              "                        <th id=\"T_722d543a_5d2c_11ec_ace2_0242ac1c0002level0_row2\" class=\"row_heading level0 row2\" >0</th>\n",
              "                        <td id=\"T_722d543a_5d2c_11ec_ace2_0242ac1c0002row2_col0\" class=\"data row2 col0\" >Naive Bayes</td>\n",
              "                        <td id=\"T_722d543a_5d2c_11ec_ace2_0242ac1c0002row2_col1\" class=\"data row2 col1\" >0.552860</td>\n",
              "            </tr>\n",
              "            <tr>\n",
              "                        <th id=\"T_722d543a_5d2c_11ec_ace2_0242ac1c0002level0_row3\" class=\"row_heading level0 row3\" >1</th>\n",
              "                        <td id=\"T_722d543a_5d2c_11ec_ace2_0242ac1c0002row3_col0\" class=\"data row3 col0\" >Logistic Regression</td>\n",
              "                        <td id=\"T_722d543a_5d2c_11ec_ace2_0242ac1c0002row3_col1\" class=\"data row3 col1\" >0.545630</td>\n",
              "            </tr>\n",
              "    </tbody></table>"
            ],
            "text/plain": [
              "<pandas.io.formats.style.Styler at 0x7f6a8a17d410>"
            ]
          },
          "metadata": {},
          "execution_count": 59
        }
      ]
    },
    {
      "cell_type": "code",
      "source": [
        ""
      ],
      "metadata": {
        "id": "TV-MF4x1_QGg"
      },
      "id": "TV-MF4x1_QGg",
      "execution_count": null,
      "outputs": []
    }
  ]
}